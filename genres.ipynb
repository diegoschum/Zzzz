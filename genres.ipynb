{
 "cells": [
  {
   "cell_type": "code",
   "execution_count": 1,
   "metadata": {},
   "outputs": [],
   "source": [
    "import pandas as pd\n",
    "import matplotlib.pyplot as plt\n",
    "import seaborn as sns\n",
    "import numpy as np\n",
    "from sklearn.model_selection import train_test_split\n",
    "from sklearn.compose import ColumnTransformer\n",
    "from sklearn.linear_model import LinearRegression\n",
    "from sklearn.metrics import mean_squared_error\n",
    "\n",
    "\n",
    "\n",
    "from sklearn.feature_selection import RFE\n",
    "import statsmodels.formula.api as smf\n"
   ]
  },
  {
   "cell_type": "code",
   "execution_count": 2,
   "metadata": {},
   "outputs": [],
   "source": [
    "df = pd.read_csv('cleaned_data.csv')\n"
   ]
  },
  {
   "cell_type": "markdown",
   "metadata": {},
   "source": [
    "## Which genre is more profitable? "
   ]
  },
  {
   "attachments": {},
   "cell_type": "markdown",
   "metadata": {},
   "source": [
    "# Model Development\n"
   ]
  },
  {
   "cell_type": "code",
   "execution_count": 3,
   "metadata": {},
   "outputs": [],
   "source": [
    "train = pd.read_csv('train.csv')\n",
    "test = pd.read_csv('test.csv')"
   ]
  },
  {
   "cell_type": "code",
   "execution_count": 4,
   "metadata": {},
   "outputs": [
    {
     "data": {
      "text/plain": [
       "1.000000    755\n",
       "0.000000    752\n",
       "0.666667    751\n",
       "0.333333    740\n",
       "Name: gross_bin, dtype: int64"
      ]
     },
     "execution_count": 4,
     "metadata": {},
     "output_type": "execute_result"
    }
   ],
   "source": [
    "#values in gross_)bins\n",
    "train['gross_bin'].value_counts()"
   ]
  },
  {
   "attachments": {},
   "cell_type": "markdown",
   "metadata": {},
   "source": [
    "### Logistic Regression  : gross revenue"
   ]
  },
  {
   "cell_type": "code",
   "execution_count": 5,
   "metadata": {},
   "outputs": [
    {
     "data": {
      "text/plain": [
       "Index(['director_name', 'duration', 'director_facebook_likes',\n",
       "       'actor_3_facebook_likes', 'actor_2_name', 'actor_1_facebook_likes',\n",
       "       'gross', 'actor_1_name', 'movie_title', 'cast_total_facebook_likes',\n",
       "       'actor_3_name', 'facenumber_in_poster', 'plot_keywords',\n",
       "       'movie_imdb_link', 'language', 'country', 'content_rating', 'budget',\n",
       "       'title_year', 'actor_2_facebook_likes', 'aspect_ratio', 'profit',\n",
       "       'gross_bin', 'action', 'adventure', 'animation', 'biography', 'comedy',\n",
       "       'crime', 'documentary', 'drama', 'family', 'fantasy', 'history',\n",
       "       'horror', 'music', 'musical', 'mystery', 'romance', 'sci_fi', 'sport',\n",
       "       'thriller', 'war', 'western', 'director_high', 'director_low',\n",
       "       'actor_1_high', 'actor_1_low', 'actor_2_high', 'actor_2_low',\n",
       "       'actor_3_high', 'actor_3_low', 'is_english', 'profit_binary'],\n",
       "      dtype='object')"
      ]
     },
     "execution_count": 5,
     "metadata": {},
     "output_type": "execute_result"
    }
   ],
   "source": [
    "df.columns"
   ]
  },
  {
   "cell_type": "code",
   "execution_count": 6,
   "metadata": {},
   "outputs": [
    {
     "name": "stdout",
     "output_type": "stream",
     "text": [
      "Optimization terminated successfully.\n",
      "         Current function value: 0.655273\n",
      "         Iterations 5\n"
     ]
    },
    {
     "data": {
      "text/html": [
       "<table class=\"simpletable\">\n",
       "<caption>Logit Regression Results</caption>\n",
       "<tr>\n",
       "  <th>Dep. Variable:</th>       <td>gross_bin</td>    <th>  No. Observations:  </th>  <td>  2998</td>  \n",
       "</tr>\n",
       "<tr>\n",
       "  <th>Model:</th>                 <td>Logit</td>      <th>  Df Residuals:      </th>  <td>  2992</td>  \n",
       "</tr>\n",
       "<tr>\n",
       "  <th>Method:</th>                 <td>MLE</td>       <th>  Df Model:          </th>  <td>     5</td>  \n",
       "</tr>\n",
       "<tr>\n",
       "  <th>Date:</th>            <td>Sun, 05 Mar 2023</td> <th>  Pseudo R-squ.:     </th>  <td>0.05463</td> \n",
       "</tr>\n",
       "<tr>\n",
       "  <th>Time:</th>                <td>23:26:09</td>     <th>  Log-Likelihood:    </th> <td> -1964.5</td> \n",
       "</tr>\n",
       "<tr>\n",
       "  <th>converged:</th>             <td>True</td>       <th>  LL-Null:           </th> <td> -2078.0</td> \n",
       "</tr>\n",
       "<tr>\n",
       "  <th>Covariance Type:</th>     <td>nonrobust</td>    <th>  LLR p-value:       </th> <td>4.552e-47</td>\n",
       "</tr>\n",
       "</table>\n",
       "<table class=\"simpletable\">\n",
       "<tr>\n",
       "      <td></td>         <th>coef</th>     <th>std err</th>      <th>z</th>      <th>P>|z|</th>  <th>[0.025</th>    <th>0.975]</th>  \n",
       "</tr>\n",
       "<tr>\n",
       "  <th>Intercept</th> <td>   -0.2842</td> <td>    0.044</td> <td>   -6.403</td> <td> 0.000</td> <td>   -0.371</td> <td>   -0.197</td>\n",
       "</tr>\n",
       "<tr>\n",
       "  <th>animation</th> <td>    0.0064</td> <td>    0.229</td> <td>    0.028</td> <td> 0.978</td> <td>   -0.443</td> <td>    0.456</td>\n",
       "</tr>\n",
       "<tr>\n",
       "  <th>family</th>    <td>    0.6697</td> <td>    0.154</td> <td>    4.341</td> <td> 0.000</td> <td>    0.367</td> <td>    0.972</td>\n",
       "</tr>\n",
       "<tr>\n",
       "  <th>adventure</th> <td>    0.7471</td> <td>    0.107</td> <td>    6.988</td> <td> 0.000</td> <td>    0.538</td> <td>    0.957</td>\n",
       "</tr>\n",
       "<tr>\n",
       "  <th>sci_fi</th>    <td>    0.3003</td> <td>    0.118</td> <td>    2.536</td> <td> 0.011</td> <td>    0.068</td> <td>    0.532</td>\n",
       "</tr>\n",
       "<tr>\n",
       "  <th>fantasy</th>   <td>    0.2382</td> <td>    0.122</td> <td>    1.954</td> <td> 0.051</td> <td>   -0.001</td> <td>    0.477</td>\n",
       "</tr>\n",
       "</table>"
      ],
      "text/plain": [
       "<class 'statsmodels.iolib.summary.Summary'>\n",
       "\"\"\"\n",
       "                           Logit Regression Results                           \n",
       "==============================================================================\n",
       "Dep. Variable:              gross_bin   No. Observations:                 2998\n",
       "Model:                          Logit   Df Residuals:                     2992\n",
       "Method:                           MLE   Df Model:                            5\n",
       "Date:                Sun, 05 Mar 2023   Pseudo R-squ.:                 0.05463\n",
       "Time:                        23:26:09   Log-Likelihood:                -1964.5\n",
       "converged:                       True   LL-Null:                       -2078.0\n",
       "Covariance Type:            nonrobust   LLR p-value:                 4.552e-47\n",
       "==============================================================================\n",
       "                 coef    std err          z      P>|z|      [0.025      0.975]\n",
       "------------------------------------------------------------------------------\n",
       "Intercept     -0.2842      0.044     -6.403      0.000      -0.371      -0.197\n",
       "animation      0.0064      0.229      0.028      0.978      -0.443       0.456\n",
       "family         0.6697      0.154      4.341      0.000       0.367       0.972\n",
       "adventure      0.7471      0.107      6.988      0.000       0.538       0.957\n",
       "sci_fi         0.3003      0.118      2.536      0.011       0.068       0.532\n",
       "fantasy        0.2382      0.122      1.954      0.051      -0.001       0.477\n",
       "==============================================================================\n",
       "\"\"\""
      ]
     },
     "execution_count": 6,
     "metadata": {},
     "output_type": "execute_result"
    }
   ],
   "source": [
    "\n",
    "gross_genre = smf.logit(formula = 'gross_bin ~ animation + family + adventure + sci_fi+ fantasy', data = train).fit() \n",
    "gross_genre.summary()\n"
   ]
  },
  {
   "cell_type": "code",
   "execution_count": 7,
   "metadata": {},
   "outputs": [
    {
     "name": "stdout",
     "output_type": "stream",
     "text": [
      "Accuracy: 0.3453333333333333\n"
     ]
    }
   ],
   "source": [
    "# predict the values for the test set using the trained model\n",
    "y_pred = gross_genre.predict(test)\n",
    "\n",
    "# convert predicted probabilities to class labels (0 or 1)\n",
    "y_pred_class = np.where(y_pred > 0.5, 1, 0)\n",
    "\n",
    "# compare predicted class labels with actual class labels in the test set\n",
    "accuracy = np.mean(y_pred_class == test['gross_bin'])\n",
    "print('Accuracy:', accuracy)"
   ]
  },
  {
   "attachments": {},
   "cell_type": "markdown",
   "metadata": {},
   "source": [
    "### Logistic Regression: Profit"
   ]
  },
  {
   "cell_type": "code",
   "execution_count": 8,
   "metadata": {},
   "outputs": [],
   "source": [
    "# create bins based on quartiles of the \"gross\" variable\n",
    "train['profit'], bins = pd.qcut(train['profit'], q=4, retbins=True, labels=False)\n",
    "\n",
    "# normalize \"gross_bins\" to have values in the range [0, 1]\n",
    "train['profit'] = (train['profit'] - np.min(train['profit'])) / (np.max(train['profit']) - np.min(train['profit']))\n",
    "\n",
    "test['profit'] = pd.cut(test['profit'], bins=bins, labels=False)\n",
    "test['profit'] = (test['profit'] - np.min(test['profit'])) / (np.max(test['profit']) - np.min(test['profit']))\n"
   ]
  },
  {
   "cell_type": "code",
   "execution_count": 9,
   "metadata": {},
   "outputs": [
    {
     "name": "stdout",
     "output_type": "stream",
     "text": [
      "Optimization terminated successfully.\n",
      "         Current function value: 0.689764\n",
      "         Iterations 4\n"
     ]
    }
   ],
   "source": [
    " \n",
    "profit_genre = smf.logit(formula = 'profit ~ animation + family + adventure + sci_fi + fantasy', data = train).fit() #Developing logistic regression model\n",
    "\n"
   ]
  },
  {
   "cell_type": "code",
   "execution_count": 10,
   "metadata": {},
   "outputs": [
    {
     "name": "stdout",
     "output_type": "stream",
     "text": [
      "Accuracy: 0.276\n"
     ]
    }
   ],
   "source": [
    "# predict  values for the test set using the trained model\n",
    "y_pred = profit_genre.predict(test)\n",
    "\n",
    "# convert predicted probabilities to class labels (0 or 1)\n",
    "y_pred_class = np.where(y_pred > 0.5, 1, 0)\n",
    "\n",
    "# compare predicted class labels with actual class labels in the test set\n",
    "accuracy = np.mean(y_pred_class == test['profit'])\n",
    "print('Accuracy:', accuracy)\n"
   ]
  },
  {
   "attachments": {},
   "cell_type": "markdown",
   "metadata": {},
   "source": [
    "### Logistic Regression: Postitive or negative profit"
   ]
  },
  {
   "cell_type": "code",
   "execution_count": 11,
   "metadata": {},
   "outputs": [
    {
     "name": "stdout",
     "output_type": "stream",
     "text": [
      "Optimization terminated successfully.\n",
      "         Current function value: 0.551892\n",
      "         Iterations 5\n",
      "Accuracy: 0.7226666666666667\n"
     ]
    }
   ],
   "source": [
    "#create binary column for pos or neg profit\n",
    "train['profit_binary'] = np.where(train['profit'] > 0, 1, 0)\n",
    "test['profit_binary'] = np.where(test['profit'] > 0, 1, 0)\n",
    "\n",
    "#create logistic regression model for profit_binary and top 5 genres\n",
    "profit_binary_genre = smf.logit(formula = 'profit_binary ~ animation + family + adventure + sci_fi + fantasy', data = train).fit() #Developing logistic regression model\n",
    "\n",
    "# predict  values for the test set using the trained model\n",
    "y_pred = profit_binary_genre.predict(test)\n",
    "\n",
    "# convert predicted probabilities to class labels (0 or 1)\n",
    "y_pred_class = np.where(y_pred > 0.5, 1, 0)\n",
    "\n",
    "# compare predicted class labels with actual class labels in the test set\n",
    "accuracy = np.mean(y_pred_class == test['profit_binary'])\n",
    "print('Accuracy:', accuracy)\n"
   ]
  },
  {
   "cell_type": "code",
   "execution_count": 12,
   "metadata": {},
   "outputs": [
    {
     "data": {
      "text/plain": [
       "0.72911051212938"
      ]
     },
     "execution_count": 12,
     "metadata": {},
     "output_type": "execute_result"
    }
   ],
   "source": [
    "#find precision\n",
    "from sklearn.metrics import precision_score\n",
    "precision_score(test['profit_binary'], y_pred_class)\n"
   ]
  },
  {
   "attachments": {},
   "cell_type": "markdown",
   "metadata": {},
   "source": [
    "### Same, all generes "
   ]
  },
  {
   "cell_type": "code",
   "execution_count": 13,
   "metadata": {},
   "outputs": [
    {
     "name": "stdout",
     "output_type": "stream",
     "text": [
      "Optimization terminated successfully.\n",
      "         Current function value: 0.535659\n",
      "         Iterations 7\n",
      "Accuracy: 0.7346666666666667\n"
     ]
    }
   ],
   "source": [
    "#logistic regression model for profit_binary and all genres\n",
    "profit_binary_genre = smf.logit(formula = 'profit_binary ~ action + biography + comedy + crime + documentary + drama + history + horror + music + musical + mystery + romance + sport + thriller + war + western', data = train).fit() #Developing logistic regression model\n",
    "\n",
    "# predict  values for the test set using the trained model\n",
    "y_pred = profit_binary_genre.predict(test)\n",
    "\n",
    "# convert predicted probabilities to class labels (0 or 1)\n",
    "y_pred_class = np.where(y_pred > 0.5, 1, 0)\n",
    "\n",
    "# compare predicted class labels with actual class labels in the test set\n",
    "accuracy = np.mean(y_pred_class == test['profit_binary'])\n",
    "print('Accuracy:', accuracy)\n"
   ]
  },
  {
   "cell_type": "code",
   "execution_count": 14,
   "metadata": {},
   "outputs": [
    {
     "name": "stdout",
     "output_type": "stream",
     "text": [
      "Optimization terminated successfully.\n",
      "         Current function value: 0.554714\n",
      "         Iterations 6\n",
      "Accuracy: 0.7306666666666667\n"
     ]
    }
   ],
   "source": [
    "#find the most important features\n",
    "profit_binary_genre.params.sort_values(ascending=False)\n",
    "#list of 5 most important features from profit_binary_genre, excluding intercept \n",
    "top_5 = list(profit_binary_genre.params.sort_values(ascending=False)[1:7].index)\n",
    "top_5 = ['horror', 'musical', 'music', 'comedy', 'romance']\n",
    "#new model with only top 5 genres\n",
    "profit_binary_genre = smf.logit(formula = 'profit_binary ~ horror + musical + music + comedy + romance', data = train).fit() #Developing logistic regression model\n",
    "\n",
    "# predict  values for the test set using the trained model\n",
    "y_pred = profit_binary_genre.predict(test)\n",
    "\n",
    "# convert predicted probabilities to class labels (0 or 1)\n",
    "y_pred_class = np.where(y_pred > 0.5, 1, 0)\n",
    "\n",
    "# compare predicted class labels with actual class labels in the test set\n",
    "accuracy = np.mean(y_pred_class == test['profit_binary'])\n",
    "print('Accuracy:', accuracy)\n"
   ]
  },
  {
   "attachments": {},
   "cell_type": "markdown",
   "metadata": {},
   "source": [
    "### Linear Regrssion : Profit "
   ]
  }
 ],
 "metadata": {
  "kernelspec": {
   "display_name": "base",
   "language": "python",
   "name": "python3"
  },
  "language_info": {
   "codemirror_mode": {
    "name": "ipython",
    "version": 3
   },
   "file_extension": ".py",
   "mimetype": "text/x-python",
   "name": "python",
   "nbconvert_exporter": "python",
   "pygments_lexer": "ipython3",
   "version": "3.9.13"
  },
  "orig_nbformat": 4,
  "vscode": {
   "interpreter": {
    "hash": "40d3a090f54c6569ab1632332b64b2c03c39dcf918b08424e98f38b5ae0af88f"
   }
  }
 },
 "nbformat": 4,
 "nbformat_minor": 2
}
