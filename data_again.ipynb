{
 "cells": [
  {
   "cell_type": "code",
   "execution_count": 148,
   "metadata": {},
   "outputs": [],
   "source": [
    "import pandas as pd\n",
    "import matplotlib.pyplot as plt\n",
    "import seaborn as sns\n",
    "import numpy as np\n",
    "from sklearn.model_selection import train_test_split\n",
    "from sklearn.compose import ColumnTransformer\n",
    "from sklearn.linear_model import LinearRegression\n",
    "from sklearn.metrics import mean_squared_error\n",
    "\n",
    "import statsmodels.formula.api as smf\n",
    "\n"
   ]
  },
  {
   "cell_type": "code",
   "execution_count": 149,
   "metadata": {},
   "outputs": [],
   "source": [
    "#read in movie data\n",
    "df = pd.read_csv('movie_metadata.csv')\n"
   ]
  },
  {
   "attachments": {},
   "cell_type": "markdown",
   "metadata": {},
   "source": [
    "## Data Cleaning"
   ]
  },
  {
   "cell_type": "code",
   "execution_count": 150,
   "metadata": {},
   "outputs": [],
   "source": [
    "#remove rows having genres with combiend revenue = 0 (film_noir,,game_shwo, reality_tv)\n",
    "\n",
    "df = df[df['genres'] != 'film_noir']\n",
    "df = df[df['genres'] != 'game_show']\n",
    "df = df[df['genres'] != 'reality_tv']\n",
    "\n",
    "#create profit column\n",
    "df['profit'] = df['gross'] - df['budget']\n"
   ]
  },
  {
   "cell_type": "code",
   "execution_count": 151,
   "metadata": {},
   "outputs": [
    {
     "name": "stdout",
     "output_type": "stream",
     "text": [
      "original size, new size: 5043, 3757\n"
     ]
    }
   ],
   "source": [
    "#remove missing values\n",
    "df = df.drop(columns=['color'])\n",
    "n_original = len(df)\n",
    "df.dropna(inplace=True)\n",
    "n_null_removed = len(df)\n",
    "print(\"original size, new size: \"+ str(n_original)+\", \" +str(n_null_removed))\n"
   ]
  },
  {
   "cell_type": "code",
   "execution_count": 152,
   "metadata": {},
   "outputs": [],
   "source": [
    "#remove outliers of profit within 3 standard deviations\n",
    "df = df[df['profit'] < 3*df['profit'].std()]\n",
    "df = df[df['profit'] > -3*df['profit'].std()]"
   ]
  },
  {
   "cell_type": "code",
   "execution_count": 153,
   "metadata": {},
   "outputs": [],
   "source": [
    "df[\"title_year\"] = df[\"title_year\"].astype(int)\n"
   ]
  },
  {
   "attachments": {},
   "cell_type": "markdown",
   "metadata": {},
   "source": [
    "## EDA"
   ]
  },
  {
   "cell_type": "code",
   "execution_count": 154,
   "metadata": {},
   "outputs": [],
   "source": [
    "# create bins based on quartiles of the \"gross\" variable\n",
    "df['gross_bin'] = pd.qcut(df['gross'], 4, labels=False)\n",
    "# normalize \"gross_bins\" to have values in the range [0, 1]\n",
    "df['gross_bin'] = df['gross_bin'] / df['gross_bin'].max()\n"
   ]
  },
  {
   "cell_type": "code",
   "execution_count": 155,
   "metadata": {},
   "outputs": [
    {
     "data": {
      "text/plain": [
       "1.000000    937\n",
       "0.666667    937\n",
       "0.000000    937\n",
       "0.333333    937\n",
       "Name: gross_bin, dtype: int64"
      ]
     },
     "execution_count": 155,
     "metadata": {},
     "output_type": "execute_result"
    }
   ],
   "source": [
    "df['gross_bin'].value_counts()"
   ]
  },
  {
   "cell_type": "code",
   "execution_count": 156,
   "metadata": {},
   "outputs": [],
   "source": [
    "df[\"title_year\"] = df[\"title_year\"].astype(int)\n"
   ]
  },
  {
   "attachments": {},
   "cell_type": "markdown",
   "metadata": {},
   "source": [
    "### Genres"
   ]
  },
  {
   "cell_type": "code",
   "execution_count": 157,
   "metadata": {},
   "outputs": [],
   "source": [
    "# create binary variables for each genre\n",
    "genres_df = df['genres'].str.get_dummies(sep='|')\n",
    "df = pd.concat([df, genres_df], axis=1)\n",
    "\n",
    "#lowercase column names\n",
    "df.columns = map(str.lower, df.columns)\n",
    "\n",
    "df = df.rename(columns={'sci-fi': 'sci_fi'})\n",
    "\n",
    "\n",
    "#remove genres column\n",
    "df = df.drop(columns=['genres'])\n",
    "\n"
   ]
  },
  {
   "cell_type": "code",
   "execution_count": null,
   "metadata": {},
   "outputs": [],
   "source": [
    "df = df[df['genres'] != 'film_noir']\n",
    "df = df[df['genres'] != 'game_show']\n",
    "df = df[df['genres'] != 'reality_tv']"
   ]
  },
  {
   "attachments": {},
   "cell_type": "markdown",
   "metadata": {},
   "source": [
    "### Actors\n"
   ]
  },
  {
   "cell_type": "code",
   "execution_count": 158,
   "metadata": {},
   "outputs": [],
   "source": [
    "df_people = df[[\"director_name\", \"director_facebook_likes\",  \"actor_1_name\", \"actor_1_facebook_likes\",\"actor_2_name\", \"actor_2_facebook_likes\", \"actor_3_name\",\"actor_3_facebook_likes\", \"cast_total_facebook_likes\",  \"profit\"]]\n",
    "yay = df_people.groupby([\"director_name\",\"actor_1_name\", \"actor_2_name\", \"actor_3_name\"])[[\"profit\"]].agg(\"mean\").sort_values(by = \"profit\", ascending=False)\n",
    "df_people.groupby([\"director_name\",\"actor_1_name\", \"actor_2_name\", \"actor_3_name\"]).agg(\"count\")\n",
    "director = df_people.groupby([\"director_name\"])[[\"profit\"]].agg(\"mean\").sort_values(by = \"profit\", ascending=False).reset_index()\n",
    "actor_1 = df_people.groupby([\"actor_1_name\"])[[\"profit\"]].agg(\"mean\").sort_values(by = \"profit\", ascending=False).reset_index()\n",
    "actor_2 = df_people.groupby([\"actor_2_name\"])[[\"profit\"]].agg(\"mean\").sort_values(by = \"profit\", ascending=False).reset_index()\n",
    "actor_3 = df_people.groupby([\"actor_3_name\"])[[\"profit\"]].agg(\"mean\").sort_values(by = \"profit\", ascending=False).reset_index()\n",
    "director_high = [x for x in director['director_name'].iloc[:(round(len(director)/2))]]\n",
    "director_low = [x for x in director['director_name'].iloc[(round(len(director)/2)):len(director)]]\n",
    "actor_1_high = [x for x in actor_1['actor_1_name'].iloc[:(round(len(actor_1)/2))]]\n",
    "actor_1_low = [x for x in actor_1['actor_1_name'].iloc[(round(len(actor_1)/2)):len(actor_1)]]\n",
    "actor_2_high = [x for x in actor_2['actor_2_name'].iloc[:(round(len(actor_2)/2))]]\n",
    "actor_2_low = [x for x in actor_2['actor_2_name'].iloc[(round(len(actor_2)/2)):len(actor_2)]]\n",
    "actor_3_high = [x for x in actor_3['actor_3_name'].iloc[:(round(len(actor_3)/2))]]\n",
    "actor_3_low = [x for x in actor_3['actor_3_name'].iloc[(round(len(actor_3)/2)):len(actor_3)]]\n",
    "df[\"director_high\"] = [1 if director_high.count(x) > 0 else 0 for x in df[\"director_name\"]]\n",
    "df[\"director_low\"] = [1 if director_low.count(x) > 0 else 0 for x in df[\"director_name\"]]\n",
    "df[\"actor_1_high\"] = [1 if actor_1_high.count(x) > 0 else 0 for x in df[\"actor_1_name\"]]\n",
    "df[\"actor_1_low\"] = [1 if actor_1_low.count(x) > 0 else 0 for x in df[\"actor_1_name\"]]\n",
    "df[\"actor_2_high\"] = [1 if actor_2_high.count(x) > 0 else 0 for x in df[\"actor_2_name\"]]\n",
    "df[\"actor_2_low\"] = [1 if actor_2_low.count(x) > 0 else 0 for x in df[\"actor_2_name\"]]\n",
    "df[\"actor_2_high\"] = [1 if actor_2_high.count(x) > 0 else 0 for x in df[\"actor_2_name\"]]\n",
    "df[\"actor_2_low\"] = [1 if actor_2_low.count(x) > 0 else 0 for x in df[\"actor_2_name\"]]\n",
    "df[\"actor_3_high\"] = [1 if actor_3_high.count(x) > 0 else 0 for x in df[\"actor_3_name\"]]\n",
    "df[\"actor_3_low\"] = [1 if actor_3_low.count(x) > 0 else 0 for x in df[\"actor_3_name\"]]"
   ]
  },
  {
   "cell_type": "code",
   "execution_count": 159,
   "metadata": {},
   "outputs": [],
   "source": [
    "df[\"is_english\"] = [1 if x == \"English\" else 0 for x in df[\"language\"]]\n"
   ]
  },
  {
   "cell_type": "code",
   "execution_count": null,
   "metadata": {},
   "outputs": [],
   "source": []
  },
  {
   "attachments": {},
   "cell_type": "markdown",
   "metadata": {},
   "source": [
    "### Binary Profit"
   ]
  },
  {
   "cell_type": "code",
   "execution_count": 160,
   "metadata": {},
   "outputs": [],
   "source": [
    "df['profit_binary'] = np.where(df['profit'] > 0, 1, 0)\n"
   ]
  },
  {
   "attachments": {},
   "cell_type": "markdown",
   "metadata": {},
   "source": [
    "### Remove Post Release Metrics\n"
   ]
  },
  {
   "cell_type": "code",
   "execution_count": 161,
   "metadata": {},
   "outputs": [],
   "source": [
    "post_release_metrics = ['imdb_score', 'num_voted_users', 'num_user_for_reviews', 'num_critic_for_reviews', 'movie_facebook_likes']\n",
    "df = df.drop(columns=post_release_metrics)"
   ]
  },
  {
   "cell_type": "code",
   "execution_count": 162,
   "metadata": {},
   "outputs": [],
   "source": [
    "# Split the data into training and testing sets\n",
    "train_data, test_data = train_test_split(df, test_size=0.2, random_state=42)\n",
    "\n",
    "# Save the training and testing data as CSV files\n",
    "train_data.to_csv('train.csv', index=False)\n",
    "test_data.to_csv('test.csv', index=False)"
   ]
  },
  {
   "cell_type": "code",
   "execution_count": 163,
   "metadata": {},
   "outputs": [],
   "source": [
    "#export cleaned_data\n",
    "df.to_csv('cleaned_data.csv', index=False)\n"
   ]
  },
  {
   "cell_type": "markdown",
   "metadata": {},
   "source": []
  },
  {
   "cell_type": "code",
   "execution_count": null,
   "metadata": {},
   "outputs": [],
   "source": []
  }
 ],
 "metadata": {
  "kernelspec": {
   "display_name": "base",
   "language": "python",
   "name": "python3"
  },
  "language_info": {
   "codemirror_mode": {
    "name": "ipython",
    "version": 3
   },
   "file_extension": ".py",
   "mimetype": "text/x-python",
   "name": "python",
   "nbconvert_exporter": "python",
   "pygments_lexer": "ipython3",
   "version": "3.9.13"
  },
  "orig_nbformat": 4,
  "vscode": {
   "interpreter": {
    "hash": "40d3a090f54c6569ab1632332b64b2c03c39dcf918b08424e98f38b5ae0af88f"
   }
  }
 },
 "nbformat": 4,
 "nbformat_minor": 2
}
