{
 "cells": [
  {
   "cell_type": "raw",
   "id": "33dd6c4c",
   "metadata": {},
   "source": [
    "---\n",
    "title: \"Project proposal\"\n",
    "format: \n",
    "  html:\n",
    "    toc: true\n",
    "    toc-title: Contents\n",
    "    code-fold: show\n",
    "    self-contained: true\n",
    "jupyter: python3\n",
    "---"
   ]
  },
  {
   "cell_type": "markdown",
   "id": "0116f49b",
   "metadata": {},
   "source": [
    "## Instructions {-}\n",
    "\n",
    "1. Please answer the following questions as part of your project proposal.\n",
    "\n",
    "2. Write your answers in the *Markdown* cells of the Jupyter notebook. You don't need to write any code, but if you want to, you may use the *Code* cells.\n",
    "\n",
    "3. Use [Quarto](https://quarto.org/docs/output-formats/html-basics.html) to print the *.ipynb* file as HTML. You will need to open the command prompt, navigate to the directory containing the file, and use the command: `quarto render filename.ipynb --to html`. Submit the HTML file.\n",
    "\n",
    "4. The project proposal is worth 8 points, and is due on **27th January 2023 at 11:59 pm**. \n",
    "\n",
    "5. You must make one submission as a group, and not individually.\n",
    "\n",
    "6. Each team member must have at least **one commit** on the team's github repository. No points will be awarded to the team member(s) with no commits.\n",
    "\n",
    "7. Share the link of your project's GitHub repository [here](https://docs.google.com/spreadsheets/d/1khao3unpj_vsx4kOSg_Zzo77YK1UWL2w73Oa0aAirOo/edit#gid=0)."
   ]
  },
  {
   "cell_type": "markdown",
   "id": "fe7ea9bb",
   "metadata": {},
   "source": [
    "# 1) Team name\n",
    "Mention your team name.\n",
    "\n",
    "*(0 points)*"
   ]
  },
  {
   "cell_type": "markdown",
   "id": "9d067b7d",
   "metadata": {},
   "source": [
    "Zzzz"
   ]
  },
  {
   "cell_type": "markdown",
   "id": "16fccc9b",
   "metadata": {},
   "source": [
    "# 2) Member names\n",
    "Mention the names of your team members.\n",
    "\n",
    "*(0 points)*"
   ]
  },
  {
   "cell_type": "markdown",
   "id": "1f89f03f",
   "metadata": {},
   "source": [
    "Yasmeen Nahas, Kabeer Kishore, and Diego Schummer"
   ]
  },
  {
   "cell_type": "markdown",
   "id": "220a6528",
   "metadata": {},
   "source": [
    "# 3) Link to the GitHub repository\n",
    "Share the link of the team's project repository on GitHub.\n",
    "\n",
    "Also, put the link of your project's GitHub repository [here](https://docs.google.com/spreadsheets/d/1khao3unpj_vsx4kOSg_Zzo77YK1UWL2w73Oa0aAirOo/edit#gid=0).\n",
    "\n",
    "We believe there is no harm in having other teams view your GitHub repository. However, if you don't want anyone to see your team's work, you may make the repository *Private* and add your instructor and graduate TA as *Colloborators* in it.\n",
    "\n",
    "*(0 points)*"
   ]
  },
  {
   "cell_type": "markdown",
   "id": "81269183",
   "metadata": {},
   "source": [
    "https://github.com/diegoschum/Zzzz.git"
   ]
  },
  {
   "cell_type": "markdown",
   "id": "16c1a490",
   "metadata": {},
   "source": [
    "# 4) Topic\n",
    "Mention the topic of your course project.\n",
    "\n",
    "*(0.25 points)*"
   ]
  },
  {
   "attachments": {},
   "cell_type": "markdown",
   "id": "a943dbf5",
   "metadata": {},
   "source": [
    "The goal of the project would be to build a predictive model that can accurately estimate the financial success of a movie based on various factors such as budget, cast, director, and user reviews."
   ]
  },
  {
   "cell_type": "markdown",
   "id": "9403cdfb",
   "metadata": {},
   "source": [
    "# 5) Problem statement\n",
    "Explain the problem statement. The problem statement must include:\n",
    "\n",
    "1. The problem\n",
    "\n",
    "2. Is it a regression or classification problem or a combination of both?\n",
    "\n",
    "3. Is it an inference or prediction problem or a combination of both?\n",
    "\n",
    "4. How will you assess model accuracy?\n",
    "\n",
    "  - If it is a classification problem, then which measure(s) will you optimize for your model – precision, recall, false negative rate (FNR), accuracy, ROC-AUC etc., and why?\n",
    "  - If it is a regression problem, then which measure(s) will you optimize for your model – RMSE (Root mean squared error), MAE (mean absolute error), maximum absolute error etc., and why?\n",
    "\n",
    "5. What techniques do you think you may need to use to improve your model? If you have too many variables, some of which are  correlated or collinear, you may need to do variable selection *(techniques for variable selection that you will learn later in the course - stepwise regression, lasso, ridge regression)*. If the variables do not have a linear relationship with the response, or if some of the modeling assumptions are not satisfied, you may need to transform the predictors and/or the response (variable transformation) to obtain a better fit.\n",
    "\n",
    "*(5 points)*"
   ]
  },
  {
   "attachments": {},
   "cell_type": "markdown",
   "id": "c49cab51",
   "metadata": {},
   "source": [
    "The problem is to use the IMDB 5000 movie dataset to develop a predictive model that can precisely predict the financial success of a film based on a variety of variables such as budget, cast, director, and user reviews. \n",
    "\n",
    "Given that the output we're attempting to predict is a continuous numerical variable, this is a regression problem (i.e. profit).This is a prediction problem for movies that have not yet been released. \n",
    "\n",
    "Because RMSE penalizes larger errors more severely, we will refine our model by minimizing RMSE to assess the model's fit. Several strategies, including variable selection and variable transformation, will be used to achieve this. Nevertheless, we will continue to adapt our methods in light of the various analyses we obtain at various stages.\n",
    "\n",
    "We will also be investigating which variables is the best predictors of profitability through inference regression analysis (investigating which variables correlate best with the variable profit). This will enable us to build the best predictive model based on the data in the dataset IMDB 5000."
   ]
  },
  {
   "cell_type": "markdown",
   "id": "3eb2d4f2",
   "metadata": {},
   "source": [
    "# 6) Data sources\n",
    "\n",
    "What data sources will you use, and how will the data help answer the questions? Explain.\n",
    "\n",
    "If the data is open source, share the link of the data.\n",
    "\n",
    "*(1 point)*"
   ]
  },
  {
   "attachments": {},
   "cell_type": "markdown",
   "id": "d14ae3c0",
   "metadata": {},
   "source": [
    "https://www.kaggle.com/datasets/carolzhangdc/imdb-5000-movie-dataset"
   ]
  },
  {
   "cell_type": "markdown",
   "id": "cb8a845f",
   "metadata": {},
   "source": [
    "# 7) Stakeholders"
   ]
  },
  {
   "cell_type": "markdown",
   "id": "d39c782c",
   "metadata": {},
   "source": [
    "Who are the stakeholders, and how will your project benefit them? Explain.\n",
    "\n",
    "*(1 point)*"
   ]
  },
  {
   "attachments": {},
   "cell_type": "markdown",
   "id": "776ca7d4",
   "metadata": {},
   "source": [
    "Our stakeholders are movie makers, who have the goal of making a maximum profit through the production of their movie. Our model will enable them to make decisions so as to maximise the profit."
   ]
  },
  {
   "attachments": {},
   "cell_type": "markdown",
   "id": "57e41b2a",
   "metadata": {},
   "source": [
    "# 8) Results\n",
    "What kind of results do you expect? \n",
    "\n",
    "How much accuracy is required / desired in your model (based on the metric(s) chosen in question 5), such that it is useful to the stakeholders and why?\n",
    "\n",
    "**Hint:** If it is a classification model, then your model must be at least better than random classification. If it is a regression model, then your model must be at least better than trivial models, such as the one with only the intercept term.\n",
    "\n",
    "*(0.5 point)*"
   ]
  },
  {
   "attachments": {},
   "cell_type": "markdown",
   "id": "061eaa76",
   "metadata": {},
   "source": [
    "Results:\n",
    "\n",
    "1 - Regression model between the ratings for the movie profit and the movie genre (multiple models for each genre).\n",
    "\n",
    "2 - Regression model between the number of votes and the profit (inference problem to investigate whether the number of votes, which is endicative of a higher engagement on IMDB, is correlated to profitability; for instance, it might be that people only vote if they think negatively of the movie, and not positively).\n",
    "\n",
    "3 - Regression model between maturity rating and movie rating (multiple models for each type of rating).\n",
    "\n",
    "(as we look at the dataset, we will be expanding on these questions and results)\n",
    "\n",
    "Final model: Prediction model for IMDB rating of future video game. \n",
    "\n",
    "Accuracy:\n",
    "\n",
    "- Looking for an RMSE value of less of 0.5.\n",
    "\n",
    "- Looking for an R squared value as close to one as possible."
   ]
  },
  {
   "cell_type": "markdown",
   "id": "0c874b4f",
   "metadata": {},
   "source": [
    "# 9) Work-split\n",
    "How do you plan to split the project work amongst individual team members?\n",
    "\n",
    "*(0.25 point)*"
   ]
  },
  {
   "attachments": {},
   "cell_type": "markdown",
   "id": "27b1c1c5",
   "metadata": {},
   "source": [
    "Diego - 1\n",
    "\n",
    "Yasmeen - 2\n",
    "\n",
    "Kabeer - 3\n",
    "\n",
    "We are splitting it by data with each team member responsible for working on a subset of the data, as specified above. Then we will work together to develop the final model that will predict the rating of the game based on genre, number of votes, and maturity."
   ]
  }
 ],
 "metadata": {
  "kernelspec": {
   "display_name": "Python 3",
   "language": "python",
   "name": "python3"
  },
  "language_info": {
   "codemirror_mode": {
    "name": "ipython",
    "version": 3
   },
   "file_extension": ".py",
   "mimetype": "text/x-python",
   "name": "python",
   "nbconvert_exporter": "python",
   "pygments_lexer": "ipython3",
   "version": "3.10.6 (tags/v3.10.6:9c7b4bd, Aug  1 2022, 21:53:49) [MSC v.1932 64 bit (AMD64)]"
  },
  "vscode": {
   "interpreter": {
    "hash": "91308e1e2f39ebeb559021abc6d181baf101b17db125aafbabc42f5532597682"
   }
  }
 },
 "nbformat": 4,
 "nbformat_minor": 5
}
