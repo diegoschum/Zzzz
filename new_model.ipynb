{
 "cells": [
  {
   "cell_type": "code",
   "execution_count": 92,
   "metadata": {},
   "outputs": [],
   "source": [
    "import pandas as pd\n",
    "import matplotlib.pyplot as plt\n",
    "import seaborn as sns\n",
    "import numpy as np\n",
    "from sklearn.model_selection import train_test_split\n",
    "from sklearn.compose import ColumnTransformer\n",
    "from sklearn.linear_model import LinearRegression\n",
    "from sklearn.metrics import mean_squared_error\n",
    "\n",
    "\n",
    "\n",
    "from sklearn.feature_selection import RFE\n",
    "import statsmodels.formula.api as smf\n"
   ]
  },
  {
   "cell_type": "code",
   "execution_count": 93,
   "metadata": {},
   "outputs": [],
   "source": [
    "train = pd.read_csv('train.csv')\n",
    "test = pd.read_csv('test.csv')"
   ]
  },
  {
   "cell_type": "code",
   "execution_count": 94,
   "metadata": {},
   "outputs": [
    {
     "name": "stdout",
     "output_type": "stream",
     "text": [
      "Optimization terminated successfully.\n",
      "         Current function value: 0.337885\n",
      "         Iterations 25\n"
     ]
    }
   ],
   "source": [
    "standard_predictors = ['duration', 'director_facebook_likes', 'actor_3_facebook_likes', 'actor_1_facebook_likes', 'cast_total_facebook_likes', 'facenumber_in_poster', 'title_year', 'actor_2_facebook_likes', 'aspect_ratio']\n",
    "predictors_actors = ['director_high', 'director_low', 'actor_1_high', 'actor_1_low', 'actor_2_high', 'actor_2_low', 'actor_3_high', 'actor_3_low']\n",
    "predictors_genre = ['action', 'biography', 'comedy', 'crime', 'documentary', 'drama', 'history', 'horror', 'music', 'musical', 'mystery', 'romance', 'sport', 'thriller', 'war', 'western']\n",
    "logistic_model = smf.logit(formula='profit_binary ~ ' + ' + '.join(predictors_actors) + ' + ' + ' + '.join(predictors_genre) + ' + ' + ' + '.join(standard_predictors), data=train).fit()\n"
   ]
  },
  {
   "cell_type": "code",
   "execution_count": 95,
   "metadata": {},
   "outputs": [
    {
     "data": {
      "text/html": [
       "<table class=\"simpletable\">\n",
       "<caption>Logit Regression Results</caption>\n",
       "<tr>\n",
       "  <th>Dep. Variable:</th>     <td>profit_binary</td>  <th>  No. Observations:  </th>  <td>  2998</td> \n",
       "</tr>\n",
       "<tr>\n",
       "  <th>Model:</th>                 <td>Logit</td>      <th>  Df Residuals:      </th>  <td>  2968</td> \n",
       "</tr>\n",
       "<tr>\n",
       "  <th>Method:</th>                 <td>MLE</td>       <th>  Df Model:          </th>  <td>    29</td> \n",
       "</tr>\n",
       "<tr>\n",
       "  <th>Date:</th>            <td>Mon, 06 Mar 2023</td> <th>  Pseudo R-squ.:     </th>  <td>0.5105</td> \n",
       "</tr>\n",
       "<tr>\n",
       "  <th>Time:</th>                <td>14:40:43</td>     <th>  Log-Likelihood:    </th> <td> -1013.0</td>\n",
       "</tr>\n",
       "<tr>\n",
       "  <th>converged:</th>             <td>True</td>       <th>  LL-Null:           </th> <td> -2069.5</td>\n",
       "</tr>\n",
       "<tr>\n",
       "  <th>Covariance Type:</th>     <td>nonrobust</td>    <th>  LLR p-value:       </th>  <td> 0.000</td> \n",
       "</tr>\n",
       "</table>\n",
       "<table class=\"simpletable\">\n",
       "<tr>\n",
       "              <td></td>                 <th>coef</th>     <th>std err</th>      <th>z</th>      <th>P>|z|</th>  <th>[0.025</th>    <th>0.975]</th>  \n",
       "</tr>\n",
       "<tr>\n",
       "  <th>Intercept</th>                 <td>   13.0851</td> <td>      nan</td> <td>      nan</td> <td>   nan</td> <td>      nan</td> <td>      nan</td>\n",
       "</tr>\n",
       "<tr>\n",
       "  <th>director_high</th>             <td>    7.3422</td> <td>      nan</td> <td>      nan</td> <td>   nan</td> <td>      nan</td> <td>      nan</td>\n",
       "</tr>\n",
       "<tr>\n",
       "  <th>director_low</th>              <td>    5.7429</td> <td>      nan</td> <td>      nan</td> <td>   nan</td> <td>      nan</td> <td>      nan</td>\n",
       "</tr>\n",
       "<tr>\n",
       "  <th>actor_1_high</th>              <td>    6.9394</td> <td>      nan</td> <td>      nan</td> <td>   nan</td> <td>      nan</td> <td>      nan</td>\n",
       "</tr>\n",
       "<tr>\n",
       "  <th>actor_1_low</th>               <td>    6.1457</td> <td>      nan</td> <td>      nan</td> <td>   nan</td> <td>      nan</td> <td>      nan</td>\n",
       "</tr>\n",
       "<tr>\n",
       "  <th>actor_2_high</th>              <td>    7.3407</td> <td>      nan</td> <td>      nan</td> <td>   nan</td> <td>      nan</td> <td>      nan</td>\n",
       "</tr>\n",
       "<tr>\n",
       "  <th>actor_2_low</th>               <td>    5.7444</td> <td>      nan</td> <td>      nan</td> <td>   nan</td> <td>      nan</td> <td>      nan</td>\n",
       "</tr>\n",
       "<tr>\n",
       "  <th>actor_3_high</th>              <td>    7.7487</td> <td>      nan</td> <td>      nan</td> <td>   nan</td> <td>      nan</td> <td>      nan</td>\n",
       "</tr>\n",
       "<tr>\n",
       "  <th>actor_3_low</th>               <td>    5.3363</td> <td>      nan</td> <td>      nan</td> <td>   nan</td> <td>      nan</td> <td>      nan</td>\n",
       "</tr>\n",
       "<tr>\n",
       "  <th>action</th>                    <td>   -0.1681</td> <td>    0.160</td> <td>   -1.049</td> <td> 0.294</td> <td>   -0.482</td> <td>    0.146</td>\n",
       "</tr>\n",
       "<tr>\n",
       "  <th>biography</th>                 <td>   -0.0905</td> <td>    0.261</td> <td>   -0.346</td> <td> 0.729</td> <td>   -0.603</td> <td>    0.422</td>\n",
       "</tr>\n",
       "<tr>\n",
       "  <th>comedy</th>                    <td>   -0.3587</td> <td>    0.157</td> <td>   -2.282</td> <td> 0.022</td> <td>   -0.667</td> <td>   -0.051</td>\n",
       "</tr>\n",
       "<tr>\n",
       "  <th>crime</th>                     <td>    0.0445</td> <td>    0.158</td> <td>    0.281</td> <td> 0.778</td> <td>   -0.266</td> <td>    0.355</td>\n",
       "</tr>\n",
       "<tr>\n",
       "  <th>documentary</th>               <td>    1.5364</td> <td>    0.628</td> <td>    2.446</td> <td> 0.014</td> <td>    0.305</td> <td>    2.767</td>\n",
       "</tr>\n",
       "<tr>\n",
       "  <th>drama</th>                     <td>    0.1090</td> <td>    0.142</td> <td>    0.766</td> <td> 0.444</td> <td>   -0.170</td> <td>    0.388</td>\n",
       "</tr>\n",
       "<tr>\n",
       "  <th>history</th>                   <td>    0.2107</td> <td>    0.320</td> <td>    0.659</td> <td> 0.510</td> <td>   -0.416</td> <td>    0.837</td>\n",
       "</tr>\n",
       "<tr>\n",
       "  <th>horror</th>                    <td>    0.5139</td> <td>    0.224</td> <td>    2.291</td> <td> 0.022</td> <td>    0.074</td> <td>    0.953</td>\n",
       "</tr>\n",
       "<tr>\n",
       "  <th>music</th>                     <td>    0.1058</td> <td>    0.316</td> <td>    0.335</td> <td> 0.738</td> <td>   -0.513</td> <td>    0.724</td>\n",
       "</tr>\n",
       "<tr>\n",
       "  <th>musical</th>                   <td>   -0.0056</td> <td>    0.409</td> <td>   -0.014</td> <td> 0.989</td> <td>   -0.808</td> <td>    0.797</td>\n",
       "</tr>\n",
       "<tr>\n",
       "  <th>mystery</th>                   <td>    0.1483</td> <td>    0.203</td> <td>    0.731</td> <td> 0.465</td> <td>   -0.249</td> <td>    0.546</td>\n",
       "</tr>\n",
       "<tr>\n",
       "  <th>romance</th>                   <td>    0.1440</td> <td>    0.144</td> <td>    0.997</td> <td> 0.319</td> <td>   -0.139</td> <td>    0.427</td>\n",
       "</tr>\n",
       "<tr>\n",
       "  <th>sport</th>                     <td>   -0.1487</td> <td>    0.294</td> <td>   -0.506</td> <td> 0.613</td> <td>   -0.724</td> <td>    0.427</td>\n",
       "</tr>\n",
       "<tr>\n",
       "  <th>thriller</th>                  <td>   -0.0905</td> <td>    0.161</td> <td>   -0.563</td> <td> 0.574</td> <td>   -0.406</td> <td>    0.225</td>\n",
       "</tr>\n",
       "<tr>\n",
       "  <th>war</th>                       <td>    0.1366</td> <td>    0.313</td> <td>    0.437</td> <td> 0.662</td> <td>   -0.476</td> <td>    0.749</td>\n",
       "</tr>\n",
       "<tr>\n",
       "  <th>western</th>                   <td>   -0.3946</td> <td>    0.536</td> <td>   -0.736</td> <td> 0.462</td> <td>   -1.445</td> <td>    0.656</td>\n",
       "</tr>\n",
       "<tr>\n",
       "  <th>duration</th>                  <td>   -0.0062</td> <td>    0.003</td> <td>   -1.901</td> <td> 0.057</td> <td>   -0.013</td> <td>    0.000</td>\n",
       "</tr>\n",
       "<tr>\n",
       "  <th>director_facebook_likes</th>   <td>-6.311e-06</td> <td> 1.87e-05</td> <td>   -0.337</td> <td> 0.736</td> <td> -4.3e-05</td> <td> 3.03e-05</td>\n",
       "</tr>\n",
       "<tr>\n",
       "  <th>actor_3_facebook_likes</th>    <td> 6.851e-06</td> <td> 7.93e-05</td> <td>    0.086</td> <td> 0.931</td> <td>   -0.000</td> <td>    0.000</td>\n",
       "</tr>\n",
       "<tr>\n",
       "  <th>actor_1_facebook_likes</th>    <td> 1.599e-05</td> <td>  4.7e-05</td> <td>    0.340</td> <td> 0.734</td> <td>-7.61e-05</td> <td>    0.000</td>\n",
       "</tr>\n",
       "<tr>\n",
       "  <th>cast_total_facebook_likes</th> <td>-1.904e-05</td> <td>  4.7e-05</td> <td>   -0.405</td> <td> 0.685</td> <td>   -0.000</td> <td>  7.3e-05</td>\n",
       "</tr>\n",
       "<tr>\n",
       "  <th>facenumber_in_poster</th>      <td>   -0.0065</td> <td>    0.028</td> <td>   -0.229</td> <td> 0.819</td> <td>   -0.062</td> <td>    0.049</td>\n",
       "</tr>\n",
       "<tr>\n",
       "  <th>title_year</th>                <td>   -0.0187</td> <td>    0.007</td> <td>   -2.590</td> <td> 0.010</td> <td>   -0.033</td> <td>   -0.005</td>\n",
       "</tr>\n",
       "<tr>\n",
       "  <th>actor_2_facebook_likes</th>    <td> 1.191e-05</td> <td> 4.93e-05</td> <td>    0.241</td> <td> 0.809</td> <td>-8.48e-05</td> <td>    0.000</td>\n",
       "</tr>\n",
       "<tr>\n",
       "  <th>aspect_ratio</th>              <td>   -0.5294</td> <td>    0.246</td> <td>   -2.155</td> <td> 0.031</td> <td>   -1.011</td> <td>   -0.048</td>\n",
       "</tr>\n",
       "</table>"
      ],
      "text/plain": [
       "<class 'statsmodels.iolib.summary.Summary'>\n",
       "\"\"\"\n",
       "                           Logit Regression Results                           \n",
       "==============================================================================\n",
       "Dep. Variable:          profit_binary   No. Observations:                 2998\n",
       "Model:                          Logit   Df Residuals:                     2968\n",
       "Method:                           MLE   Df Model:                           29\n",
       "Date:                Mon, 06 Mar 2023   Pseudo R-squ.:                  0.5105\n",
       "Time:                        14:40:43   Log-Likelihood:                -1013.0\n",
       "converged:                       True   LL-Null:                       -2069.5\n",
       "Covariance Type:            nonrobust   LLR p-value:                     0.000\n",
       "=============================================================================================\n",
       "                                coef    std err          z      P>|z|      [0.025      0.975]\n",
       "---------------------------------------------------------------------------------------------\n",
       "Intercept                    13.0851        nan        nan        nan         nan         nan\n",
       "director_high                 7.3422        nan        nan        nan         nan         nan\n",
       "director_low                  5.7429        nan        nan        nan         nan         nan\n",
       "actor_1_high                  6.9394        nan        nan        nan         nan         nan\n",
       "actor_1_low                   6.1457        nan        nan        nan         nan         nan\n",
       "actor_2_high                  7.3407        nan        nan        nan         nan         nan\n",
       "actor_2_low                   5.7444        nan        nan        nan         nan         nan\n",
       "actor_3_high                  7.7487        nan        nan        nan         nan         nan\n",
       "actor_3_low                   5.3363        nan        nan        nan         nan         nan\n",
       "action                       -0.1681      0.160     -1.049      0.294      -0.482       0.146\n",
       "biography                    -0.0905      0.261     -0.346      0.729      -0.603       0.422\n",
       "comedy                       -0.3587      0.157     -2.282      0.022      -0.667      -0.051\n",
       "crime                         0.0445      0.158      0.281      0.778      -0.266       0.355\n",
       "documentary                   1.5364      0.628      2.446      0.014       0.305       2.767\n",
       "drama                         0.1090      0.142      0.766      0.444      -0.170       0.388\n",
       "history                       0.2107      0.320      0.659      0.510      -0.416       0.837\n",
       "horror                        0.5139      0.224      2.291      0.022       0.074       0.953\n",
       "music                         0.1058      0.316      0.335      0.738      -0.513       0.724\n",
       "musical                      -0.0056      0.409     -0.014      0.989      -0.808       0.797\n",
       "mystery                       0.1483      0.203      0.731      0.465      -0.249       0.546\n",
       "romance                       0.1440      0.144      0.997      0.319      -0.139       0.427\n",
       "sport                        -0.1487      0.294     -0.506      0.613      -0.724       0.427\n",
       "thriller                     -0.0905      0.161     -0.563      0.574      -0.406       0.225\n",
       "war                           0.1366      0.313      0.437      0.662      -0.476       0.749\n",
       "western                      -0.3946      0.536     -0.736      0.462      -1.445       0.656\n",
       "duration                     -0.0062      0.003     -1.901      0.057      -0.013       0.000\n",
       "director_facebook_likes   -6.311e-06   1.87e-05     -0.337      0.736    -4.3e-05    3.03e-05\n",
       "actor_3_facebook_likes     6.851e-06   7.93e-05      0.086      0.931      -0.000       0.000\n",
       "actor_1_facebook_likes     1.599e-05    4.7e-05      0.340      0.734   -7.61e-05       0.000\n",
       "cast_total_facebook_likes -1.904e-05    4.7e-05     -0.405      0.685      -0.000     7.3e-05\n",
       "facenumber_in_poster         -0.0065      0.028     -0.229      0.819      -0.062       0.049\n",
       "title_year                   -0.0187      0.007     -2.590      0.010      -0.033      -0.005\n",
       "actor_2_facebook_likes     1.191e-05   4.93e-05      0.241      0.809   -8.48e-05       0.000\n",
       "aspect_ratio                 -0.5294      0.246     -2.155      0.031      -1.011      -0.048\n",
       "=============================================================================================\n",
       "\"\"\""
      ]
     },
     "execution_count": 95,
     "metadata": {},
     "output_type": "execute_result"
    }
   ],
   "source": [
    "#summary\n",
    "logistic_model.summary()\n"
   ]
  },
  {
   "cell_type": "code",
   "execution_count": 96,
   "metadata": {},
   "outputs": [],
   "source": [
    "#pred on test\n",
    "test['pred'] = logistic_model.predict(test)\n",
    "\n",
    "#make binary prediction\n",
    "test['pred_binary'] = np.where(test['pred'] > 0.5, 1, 0)"
   ]
  },
  {
   "cell_type": "code",
   "execution_count": 97,
   "metadata": {},
   "outputs": [
    {
     "name": "stdout",
     "output_type": "stream",
     "text": [
      "0.868\n"
     ]
    }
   ],
   "source": [
    "#accuracy on test\n",
    "accuracy = sum(test['pred_binary'] == test['profit_binary'])/len(test)\n",
    "print(accuracy)"
   ]
  },
  {
   "cell_type": "code",
   "execution_count": 98,
   "metadata": {},
   "outputs": [
    {
     "data": {
      "image/png": "[encoded data removed]",
      "text/plain": [
       "<Figure size 640x480 with 1 Axes>"
      ]
     },
     "metadata": {},
     "output_type": "display_data"
    }
   ],
   "source": [
    "#plot ROC curve\n",
    "from sklearn.metrics import roc_curve\n",
    "fpr, tpr, thresholds = roc_curve(test['profit_binary'], test['pred'])\n",
    "plt.plot(fpr, tpr)\n",
    "plt.plot([0, 1], [0, 1], 'k--')\n",
    "plt.xlabel('False Positive Rate')\n",
    "plt.ylabel('True Positive Rate')\n",
    "plt.title('ROC Curve')\n",
    "plt.show()"
   ]
  },
  {
   "cell_type": "code",
   "execution_count": 99,
   "metadata": {},
   "outputs": [],
   "source": [
    "#Function to compute confusion matrix and prediction accuracy on test/train data\n",
    "from sklearn.metrics import auc\n",
    "\n",
    "\n",
    "def confusion_matrix_data(data,actual_values,model,cutoff=0.5):\n",
    "#Predict the values using the Logit model\n",
    "    pred_values = model.predict(data)\n",
    "# Specify the bins\n",
    "    bins=np.array([0,cutoff,1])\n",
    "#Confusion matrix\n",
    "    cm = np.histogram2d(actual_values, pred_values, bins=bins)[0]\n",
    "    cm_df = pd.DataFrame(cm)\n",
    "    cm_df.columns = ['Predicted 0','Predicted 1']\n",
    "    cm_df = cm_df.rename(index={0: 'Actual 0',1:'Actual 1'})\n",
    "# Calculate the accuracy\n",
    "    accuracy = (cm[0,0]+cm[1,1])/cm.sum()\n",
    "    fnr = (cm[1,0])/(cm[1,0]+cm[1,1])\n",
    "    precision = (cm[1,1])/(cm[0,1]+cm[1,1])\n",
    "    fpr = (cm[0,1])/(cm[0,0]+cm[0,1])\n",
    "    tpr = (cm[1,1])/(cm[1,0]+cm[1,1])\n",
    "    fpr_roc, tpr_roc, auc_thresholds = roc_curve(actual_values, pred_values)\n",
    "    auc_value = (auc(fpr_roc, tpr_roc))# AUC of ROC\n",
    "    sns.heatmap(cm_df, annot=True, cmap='Blues', fmt='g')\n",
    "    plt.ylabel(\"Actual Values\")\n",
    "    plt.xlabel(\"Predicted Values\")\n",
    "    print(\"Classification accuracy = {:.1%}\".format(accuracy))\n",
    "    print(\"Precision = {:.1%}\".format(precision))\n",
    "    print(\"TPR or Recall = {:.1%}\".format(tpr))\n",
    "    print(\"FNR = {:.1%}\".format(fnr))\n",
    "    print(\"FPR = {:.1%}\".format(fpr))\n",
    "    print(\"ROC-AUC = {:.1%}\".format(auc_value))\n"
   ]
  },
  {
   "cell_type": "code",
   "execution_count": 100,
   "metadata": {},
   "outputs": [
    {
     "name": "stdout",
     "output_type": "stream",
     "text": [
      "Classification accuracy = 86.8%\n",
      "Precision = 88.8%\n",
      "TPR or Recall = 86.4%\n",
      "FNR = 13.6%\n",
      "FPR = 12.7%\n",
      "ROC-AUC = 93.3%\n"
     ]
    },
    {
     "data": {
      "image/png": "[encoded data removed]",
      "text/plain": [
       "<Figure size 640x480 with 2 Axes>"
      ]
     },
     "metadata": {},
     "output_type": "display_data"
    }
   ],
   "source": [
    "#run confusion_matrix_data like confusion_matrix_data(test,test.Outcome,logit_model_diabetes,0.3)\n",
    "confusion_matrix_data(test,test.profit_binary,logistic_model,0.5)\n"
   ]
  },
  {
   "cell_type": "code",
   "execution_count": 101,
   "metadata": {},
   "outputs": [
    {
     "name": "stdout",
     "output_type": "stream",
     "text": [
      "                           Logit Regression Results                           \n",
      "==============================================================================\n",
      "Dep. Variable:          profit_binary   No. Observations:                 2998\n",
      "Model:                          Logit   Df Residuals:                     2968\n",
      "Method:                           MLE   Df Model:                           29\n",
      "Date:                Mon, 06 Mar 2023   Pseudo R-squ.:                  0.5105\n",
      "Time:                        14:40:44   Log-Likelihood:                -1013.0\n",
      "converged:                       True   LL-Null:                       -2069.5\n",
      "Covariance Type:            nonrobust   LLR p-value:                     0.000\n",
      "=============================================================================================\n",
      "                                coef    std err          z      P>|z|      [0.025      0.975]\n",
      "---------------------------------------------------------------------------------------------\n",
      "Intercept                    13.0851        nan        nan        nan         nan         nan\n",
      "director_high                 7.3422        nan        nan        nan         nan         nan\n",
      "director_low                  5.7429        nan        nan        nan         nan         nan\n",
      "actor_1_high                  6.9394        nan        nan        nan         nan         nan\n",
      "actor_1_low                   6.1457        nan        nan        nan         nan         nan\n",
      "actor_2_high                  7.3407        nan        nan        nan         nan         nan\n",
      "actor_2_low                   5.7444        nan        nan        nan         nan         nan\n",
      "actor_3_high                  7.7487        nan        nan        nan         nan         nan\n",
      "actor_3_low                   5.3363        nan        nan        nan         nan         nan\n",
      "action                       -0.1681      0.160     -1.049      0.294      -0.482       0.146\n",
      "biography                    -0.0905      0.261     -0.346      0.729      -0.603       0.422\n",
      "comedy                       -0.3587      0.157     -2.282      0.022      -0.667      -0.051\n",
      "crime                         0.0445      0.158      0.281      0.778      -0.266       0.355\n",
      "documentary                   1.5364      0.628      2.446      0.014       0.305       2.767\n",
      "drama                         0.1090      0.142      0.766      0.444      -0.170       0.388\n",
      "history                       0.2107      0.320      0.659      0.510      -0.416       0.837\n",
      "horror                        0.5139      0.224      2.291      0.022       0.074       0.953\n",
      "music                         0.1058      0.316      0.335      0.738      -0.513       0.724\n",
      "musical                      -0.0056      0.409     -0.014      0.989      -0.808       0.797\n",
      "mystery                       0.1483      0.203      0.731      0.465      -0.249       0.546\n",
      "romance                       0.1440      0.144      0.997      0.319      -0.139       0.427\n",
      "sport                        -0.1487      0.294     -0.506      0.613      -0.724       0.427\n",
      "thriller                     -0.0905      0.161     -0.563      0.574      -0.406       0.225\n",
      "war                           0.1366      0.313      0.437      0.662      -0.476       0.749\n",
      "western                      -0.3946      0.536     -0.736      0.462      -1.445       0.656\n",
      "duration                     -0.0062      0.003     -1.901      0.057      -0.013       0.000\n",
      "director_facebook_likes   -6.311e-06   1.87e-05     -0.337      0.736    -4.3e-05    3.03e-05\n",
      "actor_3_facebook_likes     6.851e-06   7.93e-05      0.086      0.931      -0.000       0.000\n",
      "actor_1_facebook_likes     1.599e-05    4.7e-05      0.340      0.734   -7.61e-05       0.000\n",
      "cast_total_facebook_likes -1.904e-05    4.7e-05     -0.405      0.685      -0.000     7.3e-05\n",
      "facenumber_in_poster         -0.0065      0.028     -0.229      0.819      -0.062       0.049\n",
      "title_year                   -0.0187      0.007     -2.590      0.010      -0.033      -0.005\n",
      "actor_2_facebook_likes     1.191e-05   4.93e-05      0.241      0.809   -8.48e-05       0.000\n",
      "aspect_ratio                 -0.5294      0.246     -2.155      0.031      -1.011      -0.048\n",
      "=============================================================================================\n"
     ]
    }
   ],
   "source": [
    "#print equation model\n",
    "print(logistic_model.summary())"
   ]
  },
  {
   "cell_type": "code",
   "execution_count": 102,
   "metadata": {},
   "outputs": [
    {
     "name": "stdout",
     "output_type": "stream",
     "text": [
      "Model equation:\n",
      "Intercept                    13.085072\n",
      "director_high                 7.342182\n",
      "director_low                  5.742905\n",
      "actor_1_high                  6.939393\n",
      "actor_1_low                   6.145694\n",
      "actor_2_high                  7.340725\n",
      "actor_2_low                   5.744354\n",
      "actor_3_high                  7.748748\n",
      "actor_3_low                   5.336334\n",
      "action                       -0.168141\n",
      "biography                    -0.090539\n",
      "comedy                       -0.358746\n",
      "crime                         0.044542\n",
      "documentary                   1.536358\n",
      "drama                         0.108969\n",
      "history                       0.210660\n",
      "horror                        0.513879\n",
      "music                         0.105792\n",
      "musical                      -0.005553\n",
      "mystery                       0.148257\n",
      "romance                       0.144008\n",
      "sport                        -0.148734\n",
      "thriller                     -0.090471\n",
      "war                           0.136558\n",
      "western                      -0.394608\n",
      "duration                     -0.006241\n",
      "director_facebook_likes      -0.000006\n",
      "actor_3_facebook_likes        0.000007\n",
      "actor_1_facebook_likes        0.000016\n",
      "cast_total_facebook_likes    -0.000019\n",
      "facenumber_in_poster         -0.006460\n",
      "title_year                   -0.018733\n",
      "actor_2_facebook_likes        0.000012\n",
      "aspect_ratio                 -0.529359\n",
      "dtype: float64\n"
     ]
    }
   ],
   "source": [
    "equation = logistic_model.params\n",
    "\n",
    "print('Model equation:')\n",
    "print(equation)"
   ]
  },
  {
   "cell_type": "code",
   "execution_count": 103,
   "metadata": {},
   "outputs": [
    {
     "name": "stdout",
     "output_type": "stream",
     "text": [
      "              precision    recall  f1-score   support\n",
      "\n",
      "           0       0.85      0.86      0.86       346\n",
      "           1       0.88      0.87      0.87       404\n",
      "\n",
      "    accuracy                           0.87       750\n",
      "   macro avg       0.86      0.87      0.86       750\n",
      "weighted avg       0.87      0.87      0.87       750\n",
      "\n"
     ]
    }
   ],
   "source": [
    "import pandas as pd\n",
    "from sklearn.linear_model import LogisticRegression\n",
    "from sklearn.metrics import classification_report\n",
    "from sklearn.model_selection import train_test_split\n",
    "\n",
    "# Load train and test datasets\n",
    "\n",
    "#conmbine predictors_actors + predictors_genre into one list\n",
    "predictors = predictors_actors + predictors_genre\n",
    "\n",
    "# Split train dataset into features (X) and target variable (y)\n",
    "X_train = train[predictors]\n",
    "y_train = train['profit_binary']\n",
    "\n",
    "# Split test dataset into features (X) and target variable (y)\n",
    "X_test = test[predictors]\n",
    "y_test = test['profit_binary']\n",
    "\n",
    "# Initialize logistic regression model\n",
    "logreg = LogisticRegression()\n",
    "\n",
    "# Fit model on training data\n",
    "logreg.fit(X_train, y_train)\n",
    "\n",
    "# Make predictions on test data\n",
    "y_pred = logreg.predict(X_test)\n",
    "\n",
    "# Print classification report\n",
    "print(classification_report(y_test, y_pred))\n"
   ]
  },
  {
   "cell_type": "code",
   "execution_count": 104,
   "metadata": {},
   "outputs": [
    {
     "name": "stdout",
     "output_type": "stream",
     "text": [
      "Optimization terminated successfully.\n",
      "         Current function value: 0.438929\n",
      "         Iterations 6\n",
      "                           Logit Regression Results                           \n",
      "==============================================================================\n",
      "Dep. Variable:          profit_binary   No. Observations:                 2998\n",
      "Model:                          Logit   Df Residuals:                     2996\n",
      "Method:                           MLE   Df Model:                            1\n",
      "Date:                Mon, 06 Mar 2023   Pseudo R-squ.:                  0.3642\n",
      "Time:                        14:40:44   Log-Likelihood:                -1315.9\n",
      "converged:                       True   LL-Null:                       -2069.5\n",
      "Covariance Type:            nonrobust   LLR p-value:                     0.000\n",
      "===============================================================================\n",
      "                  coef    std err          z      P>|z|      [0.025      0.975]\n",
      "-------------------------------------------------------------------------------\n",
      "Intercept       1.7714      0.071     24.944      0.000       1.632       1.911\n",
      "actor_3_low    -3.3090      0.100    -33.186      0.000      -3.504      -3.114\n",
      "===============================================================================\n"
     ]
    }
   ],
   "source": [
    "# Import RFE from scikit-learn\n",
    "from sklearn.feature_selection import RFE\n",
    "\n",
    "# Define the model to use\n",
    "model = LogisticRegression()\n",
    "\n",
    "# Combine predictors_actors and predictors_genre into one list\n",
    "predictors = predictors_actors + predictors_genre\n",
    "\n",
    "# Set the number of features to remove at each step\n",
    "step = 1\n",
    "\n",
    "# Initialize RFE with the logistic regression model and step size\n",
    "rfe = RFE(estimator=model, n_features_to_select=step)\n",
    "\n",
    "# Fit RFE on the training data\n",
    "rfe.fit(X_train, y_train)\n",
    "\n",
    "# Get the ranking of each feature\n",
    "ranking = rfe.ranking_\n",
    "\n",
    "# Create a list of selected features based on their ranking\n",
    "selected_features = [predictors[i] for i in range(len(predictors)) if ranking[i] == 1]\n",
    "\n",
    "# Fit the logistic regression model on the selected features\n",
    "logistic_model_backwards = smf.logit(formula = 'profit_binary ~ ' + ' + '.join(selected_features), data = train).fit()\n",
    "\n",
    "# Print the summary of the model\n",
    "print(logistic_model_backwards.summary())\n"
   ]
  },
  {
   "cell_type": "code",
   "execution_count": 105,
   "metadata": {},
   "outputs": [
    {
     "name": "stdout",
     "output_type": "stream",
     "text": [
      "Optimization terminated successfully.\n",
      "         Current function value: 0.438929\n",
      "         Iterations 6\n",
      "                           Logit Regression Results                           \n",
      "==============================================================================\n",
      "Dep. Variable:          profit_binary   No. Observations:                 2998\n",
      "Model:                          Logit   Df Residuals:                     2996\n",
      "Method:                           MLE   Df Model:                            1\n",
      "Date:                Mon, 06 Mar 2023   Pseudo R-squ.:                  0.3642\n",
      "Time:                        14:40:44   Log-Likelihood:                -1315.9\n",
      "converged:                       True   LL-Null:                       -2069.5\n",
      "Covariance Type:            nonrobust   LLR p-value:                     0.000\n",
      "===============================================================================\n",
      "                  coef    std err          z      P>|z|      [0.025      0.975]\n",
      "-------------------------------------------------------------------------------\n",
      "Intercept       1.7714      0.071     24.944      0.000       1.632       1.911\n",
      "actor_3_low    -3.3090      0.100    -33.186      0.000      -3.504      -3.114\n",
      "===============================================================================\n"
     ]
    }
   ],
   "source": [
    "#new model w jsut actor_3_low\n",
    "\n",
    "log_model_2 = smf.logit(formula = 'profit_binary ~ actor_3_low', data = train).fit()\n",
    "\n",
    "# Print the summary of the model\n",
    "print(log_model_2.summary())\n"
   ]
  },
  {
   "cell_type": "code",
   "execution_count": 106,
   "metadata": {},
   "outputs": [
    {
     "name": "stdout",
     "output_type": "stream",
     "text": [
      "0.8453333333333334\n"
     ]
    }
   ],
   "source": [
    "#accruacy on test\n",
    "test['pred'] = log_model_2.predict(test)\n",
    "test['pred_binary'] = np.where(test['pred'] > 0.5, 1, 0)\n",
    "accuracy = sum(test['pred_binary'] == test['profit_binary'])/len(test)\n",
    "print(accuracy)\n"
   ]
  },
  {
   "cell_type": "code",
   "execution_count": 107,
   "metadata": {},
   "outputs": [
    {
     "name": "stdout",
     "output_type": "stream",
     "text": [
      "Intercept      1.771439\n",
      "actor_3_low   -3.309000\n",
      "dtype: float64\n"
     ]
    }
   ],
   "source": [
    "#coeff\n",
    "print(log_model_2.params)"
   ]
  },
  {
   "cell_type": "code",
   "execution_count": null,
   "metadata": {},
   "outputs": [],
   "source": []
  }
 ],
 "metadata": {
  "kernelspec": {
   "display_name": "base",
   "language": "python",
   "name": "python3"
  },
  "language_info": {
   "codemirror_mode": {
    "name": "ipython",
    "version": 3
   },
   "file_extension": ".py",
   "mimetype": "text/x-python",
   "name": "python",
   "nbconvert_exporter": "python",
   "pygments_lexer": "ipython3",
   "version": "3.9.13"
  },
  "orig_nbformat": 4,
  "vscode": {
   "interpreter": {
    "hash": "40d3a090f54c6569ab1632332b64b2c03c39dcf918b08424e98f38b5ae0af88f"
   }
  }
 },
 "nbformat": 4,
 "nbformat_minor": 2
}
