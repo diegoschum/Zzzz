{
 "cells": [
  {
   "cell_type": "code",
   "execution_count": 149,
   "metadata": {},
   "outputs": [],
   "source": [
    "import pandas as pd\n",
    "import matplotlib.pyplot as plt\n",
    "import seaborn as sns\n",
    "import numpy as np\n",
    "from sklearn.model_selection import train_test_split\n",
    "from sklearn.compose import ColumnTransformer\n",
    "from sklearn.linear_model import LinearRegression\n",
    "from sklearn.metrics import mean_squared_error\n",
    "\n",
    "\n",
    "\n",
    "from sklearn.feature_selection import RFE\n",
    "import statsmodels.formula.api as smf\n"
   ]
  },
  {
   "cell_type": "code",
   "execution_count": 150,
   "metadata": {},
   "outputs": [],
   "source": [
    "train = pd.read_csv('train.csv')\n",
    "test = pd.read_csv('test.csv')"
   ]
  },
  {
   "cell_type": "code",
   "execution_count": 179,
   "metadata": {},
   "outputs": [
    {
     "name": "stdout",
     "output_type": "stream",
     "text": [
      "Optimization terminated successfully.\n",
      "         Current function value: 0.666351\n",
      "         Iterations 6\n"
     ]
    }
   ],
   "source": [
    "standard_predictors = ['duration', 'director_facebook_likes', 'actor_3_facebook_likes', 'actor_1_facebook_likes', 'cast_total_facebook_likes', 'facenumber_in_poster', 'actor_2_facebook_likes', 'aspect_ratio']\n",
    "predictors_actors = ['director_high', 'director_low', 'actor_1_high', 'actor_1_low', 'actor_2_high', 'actor_2_low', 'actor_3_high', 'actor_3_low']\n",
    "predictors_genre = ['action', 'biography', 'comedy', 'crime', 'documentary', 'drama', 'history', 'horror', 'music', 'musical', 'mystery', 'romance', 'sport', 'thriller', 'war', 'western']\n",
    "#logistic_model = smf.logit(formula='profit_binary ~ ' + ' + '.join(predictors_actors) + ' + ' + ' + '.join(predictors_genre) + ' + ' + ' + '.join(standard_predictors), data=train).fit()\n",
    "logistic_model = smf.logit(formula='profit_binary ~ ' + ' + '.join(predictors_genre) + ' + ' + ' + '.join(standard_predictors), data=train).fit()\n"
   ]
  },
  {
   "cell_type": "code",
   "execution_count": 180,
   "metadata": {},
   "outputs": [
    {
     "data": {
      "text/html": [
       "<table class=\"simpletable\">\n",
       "<caption>Logit Regression Results</caption>\n",
       "<tr>\n",
       "  <th>Dep. Variable:</th>     <td>profit_binary</td>  <th>  No. Observations:  </th>  <td>  2998</td>  \n",
       "</tr>\n",
       "<tr>\n",
       "  <th>Model:</th>                 <td>Logit</td>      <th>  Df Residuals:      </th>  <td>  2973</td>  \n",
       "</tr>\n",
       "<tr>\n",
       "  <th>Method:</th>                 <td>MLE</td>       <th>  Df Model:          </th>  <td>    24</td>  \n",
       "</tr>\n",
       "<tr>\n",
       "  <th>Date:</th>            <td>Mon, 06 Mar 2023</td> <th>  Pseudo R-squ.:     </th>  <td>0.03470</td> \n",
       "</tr>\n",
       "<tr>\n",
       "  <th>Time:</th>                <td>15:53:28</td>     <th>  Log-Likelihood:    </th> <td> -1997.7</td> \n",
       "</tr>\n",
       "<tr>\n",
       "  <th>converged:</th>             <td>True</td>       <th>  LL-Null:           </th> <td> -2069.5</td> \n",
       "</tr>\n",
       "<tr>\n",
       "  <th>Covariance Type:</th>     <td>nonrobust</td>    <th>  LLR p-value:       </th> <td>5.034e-19</td>\n",
       "</tr>\n",
       "</table>\n",
       "<table class=\"simpletable\">\n",
       "<tr>\n",
       "              <td></td>                 <th>coef</th>     <th>std err</th>      <th>z</th>      <th>P>|z|</th>  <th>[0.025</th>    <th>0.975]</th>  \n",
       "</tr>\n",
       "<tr>\n",
       "  <th>Intercept</th>                 <td>    0.6830</td> <td>    0.374</td> <td>    1.829</td> <td> 0.067</td> <td>   -0.049</td> <td>    1.415</td>\n",
       "</tr>\n",
       "<tr>\n",
       "  <th>action</th>                    <td>   -0.2389</td> <td>    0.104</td> <td>   -2.299</td> <td> 0.021</td> <td>   -0.443</td> <td>   -0.035</td>\n",
       "</tr>\n",
       "<tr>\n",
       "  <th>biography</th>                 <td>   -0.0742</td> <td>    0.173</td> <td>   -0.429</td> <td> 0.668</td> <td>   -0.413</td> <td>    0.265</td>\n",
       "</tr>\n",
       "<tr>\n",
       "  <th>comedy</th>                    <td>    0.1149</td> <td>    0.100</td> <td>    1.144</td> <td> 0.253</td> <td>   -0.082</td> <td>    0.312</td>\n",
       "</tr>\n",
       "<tr>\n",
       "  <th>crime</th>                     <td>   -0.1692</td> <td>    0.105</td> <td>   -1.611</td> <td> 0.107</td> <td>   -0.375</td> <td>    0.037</td>\n",
       "</tr>\n",
       "<tr>\n",
       "  <th>documentary</th>               <td>    0.3274</td> <td>    0.372</td> <td>    0.879</td> <td> 0.379</td> <td>   -0.403</td> <td>    1.057</td>\n",
       "</tr>\n",
       "<tr>\n",
       "  <th>drama</th>                     <td>   -0.2821</td> <td>    0.092</td> <td>   -3.060</td> <td> 0.002</td> <td>   -0.463</td> <td>   -0.101</td>\n",
       "</tr>\n",
       "<tr>\n",
       "  <th>history</th>                   <td>   -0.2801</td> <td>    0.219</td> <td>   -1.276</td> <td> 0.202</td> <td>   -0.710</td> <td>    0.150</td>\n",
       "</tr>\n",
       "<tr>\n",
       "  <th>horror</th>                    <td>    0.4087</td> <td>    0.143</td> <td>    2.853</td> <td> 0.004</td> <td>    0.128</td> <td>    0.689</td>\n",
       "</tr>\n",
       "<tr>\n",
       "  <th>music</th>                     <td>    0.3068</td> <td>    0.201</td> <td>    1.523</td> <td> 0.128</td> <td>   -0.088</td> <td>    0.702</td>\n",
       "</tr>\n",
       "<tr>\n",
       "  <th>musical</th>                   <td>   -0.0301</td> <td>    0.228</td> <td>   -0.132</td> <td> 0.895</td> <td>   -0.477</td> <td>    0.417</td>\n",
       "</tr>\n",
       "<tr>\n",
       "  <th>mystery</th>                   <td>    0.0535</td> <td>    0.134</td> <td>    0.399</td> <td> 0.690</td> <td>   -0.210</td> <td>    0.317</td>\n",
       "</tr>\n",
       "<tr>\n",
       "  <th>romance</th>                   <td>    0.0901</td> <td>    0.096</td> <td>    0.939</td> <td> 0.348</td> <td>   -0.098</td> <td>    0.278</td>\n",
       "</tr>\n",
       "<tr>\n",
       "  <th>sport</th>                     <td>    0.0436</td> <td>    0.198</td> <td>    0.220</td> <td> 0.826</td> <td>   -0.345</td> <td>    0.432</td>\n",
       "</tr>\n",
       "<tr>\n",
       "  <th>thriller</th>                  <td>   -0.0559</td> <td>    0.105</td> <td>   -0.532</td> <td> 0.595</td> <td>   -0.262</td> <td>    0.150</td>\n",
       "</tr>\n",
       "<tr>\n",
       "  <th>war</th>                       <td>   -0.6209</td> <td>    0.211</td> <td>   -2.948</td> <td> 0.003</td> <td>   -1.034</td> <td>   -0.208</td>\n",
       "</tr>\n",
       "<tr>\n",
       "  <th>western</th>                   <td>   -0.3631</td> <td>    0.339</td> <td>   -1.072</td> <td> 0.284</td> <td>   -1.027</td> <td>    0.300</td>\n",
       "</tr>\n",
       "<tr>\n",
       "  <th>duration</th>                  <td>    0.0077</td> <td>    0.002</td> <td>    3.782</td> <td> 0.000</td> <td>    0.004</td> <td>    0.012</td>\n",
       "</tr>\n",
       "<tr>\n",
       "  <th>director_facebook_likes</th>   <td> 3.692e-05</td> <td> 1.37e-05</td> <td>    2.699</td> <td> 0.007</td> <td> 1.01e-05</td> <td> 6.37e-05</td>\n",
       "</tr>\n",
       "<tr>\n",
       "  <th>actor_3_facebook_likes</th>    <td>   -0.0002</td> <td> 6.48e-05</td> <td>   -3.678</td> <td> 0.000</td> <td>   -0.000</td> <td>   -0.000</td>\n",
       "</tr>\n",
       "<tr>\n",
       "  <th>actor_1_facebook_likes</th>    <td>   -0.0002</td> <td> 4.46e-05</td> <td>   -4.263</td> <td> 0.000</td> <td>   -0.000</td> <td>   -0.000</td>\n",
       "</tr>\n",
       "<tr>\n",
       "  <th>cast_total_facebook_likes</th> <td>    0.0002</td> <td> 4.44e-05</td> <td>    4.288</td> <td> 0.000</td> <td>    0.000</td> <td>    0.000</td>\n",
       "</tr>\n",
       "<tr>\n",
       "  <th>facenumber_in_poster</th>      <td>   -0.0074</td> <td>    0.019</td> <td>   -0.396</td> <td> 0.692</td> <td>   -0.044</td> <td>    0.029</td>\n",
       "</tr>\n",
       "<tr>\n",
       "  <th>actor_2_facebook_likes</th>    <td>   -0.0002</td> <td> 4.73e-05</td> <td>   -3.673</td> <td> 0.000</td> <td>   -0.000</td> <td>-8.09e-05</td>\n",
       "</tr>\n",
       "<tr>\n",
       "  <th>aspect_ratio</th>              <td>   -0.6660</td> <td>    0.151</td> <td>   -4.401</td> <td> 0.000</td> <td>   -0.963</td> <td>   -0.369</td>\n",
       "</tr>\n",
       "</table>"
      ],
      "text/plain": [
       "<class 'statsmodels.iolib.summary.Summary'>\n",
       "\"\"\"\n",
       "                           Logit Regression Results                           \n",
       "==============================================================================\n",
       "Dep. Variable:          profit_binary   No. Observations:                 2998\n",
       "Model:                          Logit   Df Residuals:                     2973\n",
       "Method:                           MLE   Df Model:                           24\n",
       "Date:                Mon, 06 Mar 2023   Pseudo R-squ.:                 0.03470\n",
       "Time:                        15:53:28   Log-Likelihood:                -1997.7\n",
       "converged:                       True   LL-Null:                       -2069.5\n",
       "Covariance Type:            nonrobust   LLR p-value:                 5.034e-19\n",
       "=============================================================================================\n",
       "                                coef    std err          z      P>|z|      [0.025      0.975]\n",
       "---------------------------------------------------------------------------------------------\n",
       "Intercept                     0.6830      0.374      1.829      0.067      -0.049       1.415\n",
       "action                       -0.2389      0.104     -2.299      0.021      -0.443      -0.035\n",
       "biography                    -0.0742      0.173     -0.429      0.668      -0.413       0.265\n",
       "comedy                        0.1149      0.100      1.144      0.253      -0.082       0.312\n",
       "crime                        -0.1692      0.105     -1.611      0.107      -0.375       0.037\n",
       "documentary                   0.3274      0.372      0.879      0.379      -0.403       1.057\n",
       "drama                        -0.2821      0.092     -3.060      0.002      -0.463      -0.101\n",
       "history                      -0.2801      0.219     -1.276      0.202      -0.710       0.150\n",
       "horror                        0.4087      0.143      2.853      0.004       0.128       0.689\n",
       "music                         0.3068      0.201      1.523      0.128      -0.088       0.702\n",
       "musical                      -0.0301      0.228     -0.132      0.895      -0.477       0.417\n",
       "mystery                       0.0535      0.134      0.399      0.690      -0.210       0.317\n",
       "romance                       0.0901      0.096      0.939      0.348      -0.098       0.278\n",
       "sport                         0.0436      0.198      0.220      0.826      -0.345       0.432\n",
       "thriller                     -0.0559      0.105     -0.532      0.595      -0.262       0.150\n",
       "war                          -0.6209      0.211     -2.948      0.003      -1.034      -0.208\n",
       "western                      -0.3631      0.339     -1.072      0.284      -1.027       0.300\n",
       "duration                      0.0077      0.002      3.782      0.000       0.004       0.012\n",
       "director_facebook_likes    3.692e-05   1.37e-05      2.699      0.007    1.01e-05    6.37e-05\n",
       "actor_3_facebook_likes       -0.0002   6.48e-05     -3.678      0.000      -0.000      -0.000\n",
       "actor_1_facebook_likes       -0.0002   4.46e-05     -4.263      0.000      -0.000      -0.000\n",
       "cast_total_facebook_likes     0.0002   4.44e-05      4.288      0.000       0.000       0.000\n",
       "facenumber_in_poster         -0.0074      0.019     -0.396      0.692      -0.044       0.029\n",
       "actor_2_facebook_likes       -0.0002   4.73e-05     -3.673      0.000      -0.000   -8.09e-05\n",
       "aspect_ratio                 -0.6660      0.151     -4.401      0.000      -0.963      -0.369\n",
       "=============================================================================================\n",
       "\"\"\""
      ]
     },
     "execution_count": 180,
     "metadata": {},
     "output_type": "execute_result"
    }
   ],
   "source": [
    "#summary\n",
    "logistic_model.summary()\n"
   ]
  },
  {
   "cell_type": "code",
   "execution_count": 181,
   "metadata": {},
   "outputs": [],
   "source": [
    "#pred on test\n",
    "test['pred'] = logistic_model.predict(test)\n",
    "\n",
    "#make binary prediction\n",
    "test['pred_binary'] = np.where(test['pred'] > 0.5, 1, 0)"
   ]
  },
  {
   "cell_type": "code",
   "execution_count": 182,
   "metadata": {},
   "outputs": [
    {
     "name": "stdout",
     "output_type": "stream",
     "text": [
      "0.6013333333333334\n"
     ]
    }
   ],
   "source": [
    "#accuracy on test\n",
    "accuracy = sum(test['pred_binary'] == test['profit_binary'])/len(test)\n",
    "print(accuracy)"
   ]
  },
  {
   "cell_type": "code",
   "execution_count": 176,
   "metadata": {},
   "outputs": [
    {
     "data": {
      "image/png": "[encoded data removed]",
      "text/plain": [
       "<Figure size 640x480 with 1 Axes>"
      ]
     },
     "metadata": {},
     "output_type": "display_data"
    }
   ],
   "source": [
    "#plot ROC curve\n",
    "from sklearn.metrics import roc_curve\n",
    "fpr, tpr, thresholds = roc_curve(test['profit_binary'], test['pred'])\n",
    "plt.plot(fpr, tpr)\n",
    "plt.plot([0, 1], [0, 1], 'k--')\n",
    "plt.xlabel('False Positive Rate')\n",
    "plt.ylabel('True Positive Rate')\n",
    "plt.title('ROC Curve')\n",
    "plt.show()"
   ]
  },
  {
   "cell_type": "code",
   "execution_count": 185,
   "metadata": {},
   "outputs": [],
   "source": [
    "#Function to compute confusion matrix and prediction accuracy on test/train data\n",
    "from sklearn.metrics import auc\n",
    "\n",
    "\n",
    "def confusion_matrix_data(data,actual_values,model,cutoff=0.5):\n",
    "#Predict the values using the Logit model\n",
    "    pred_values = model.predict(data)\n",
    "# Specify the bins\n",
    "    bins=np.array([0,cutoff,1])\n",
    "#Confusion matrix\n",
    "    cm = np.histogram2d(actual_values, pred_values, bins=bins)[0]\n",
    "    cm_df = pd.DataFrame(cm)\n",
    "    cm_df.columns = ['Predicted 0','Predicted 1']\n",
    "    cm_df = cm_df.rename(index={0: 'Actual 0',1:'Actual 1'})\n",
    "# Calculate the accuracy\n",
    "    accuracy = (cm[0,0]+cm[1,1])/cm.sum()\n",
    "    fnr = (cm[1,0])/(cm[1,0]+cm[1,1])\n",
    "    precision = (cm[1,1])/(cm[0,1]+cm[1,1])\n",
    "    fpr = (cm[0,1])/(cm[0,0]+cm[0,1])\n",
    "    tpr = (cm[1,1])/(cm[1,0]+cm[1,1])\n",
    "    fpr_roc, tpr_roc, auc_thresholds = roc_curve(actual_values, pred_values)\n",
    "    auc_value = (auc(fpr_roc, tpr_roc))# AUC of ROC\n",
    "    sns.heatmap(cm_df, annot=True, cmap='Blues', fmt='g')\n",
    "    plt.ylabel(\"Actual Values\")\n",
    "    plt.xlabel(\"Predicted Values\")\n",
    "    print(\"Classification accuracy = {:.1%}\".format(accuracy))\n",
    "    print(\"Precision = {:.1%}\".format(precision))\n",
    "    print(\"TPR or Recall = {:.1%}\".format(tpr))\n",
    "    print(\"FNR = {:.1%}\".format(fnr))\n",
    "    print(\"FPR = {:.1%}\".format(fpr))\n",
    "    print(\"ROC-AUC = {:.1%}\".format(auc_value))\n"
   ]
  },
  {
   "cell_type": "code",
   "execution_count": 186,
   "metadata": {},
   "outputs": [
    {
     "name": "stdout",
     "output_type": "stream",
     "text": [
      "Classification accuracy = 60.1%\n",
      "Precision = 60.7%\n",
      "TPR or Recall = 73.5%\n",
      "FNR = 26.5%\n",
      "FPR = 55.5%\n",
      "ROC-AUC = 62.9%\n"
     ]
    },
    {
     "data": {
      "image/png": "[encoded data removed]",
      "text/plain": [
       "<Figure size 640x480 with 2 Axes>"
      ]
     },
     "metadata": {},
     "output_type": "display_data"
    }
   ],
   "source": [
    "#run confusion_matrix_data like confusion_matrix_data(test,test.Outcome,logit_model_diabetes,0.3)\n",
    "confusion_matrix_data(test,test.profit_binary,logistic_model,0.5)\n"
   ]
  },
  {
   "cell_type": "code",
   "execution_count": 158,
   "metadata": {},
   "outputs": [
    {
     "name": "stdout",
     "output_type": "stream",
     "text": [
      "                           Logit Regression Results                           \n",
      "==============================================================================\n",
      "Dep. Variable:          profit_binary   No. Observations:                 2998\n",
      "Model:                          Logit   Df Residuals:                     2968\n",
      "Method:                           MLE   Df Model:                           29\n",
      "Date:                Mon, 06 Mar 2023   Pseudo R-squ.:                  0.5105\n",
      "Time:                        15:22:17   Log-Likelihood:                -1013.0\n",
      "converged:                       True   LL-Null:                       -2069.5\n",
      "Covariance Type:            nonrobust   LLR p-value:                     0.000\n",
      "=============================================================================================\n",
      "                                coef    std err          z      P>|z|      [0.025      0.975]\n",
      "---------------------------------------------------------------------------------------------\n",
      "Intercept                    13.0851        nan        nan        nan         nan         nan\n",
      "director_high                 7.3422        nan        nan        nan         nan         nan\n",
      "director_low                  5.7429        nan        nan        nan         nan         nan\n",
      "actor_1_high                  6.9394        nan        nan        nan         nan         nan\n",
      "actor_1_low                   6.1457        nan        nan        nan         nan         nan\n",
      "actor_2_high                  7.3407        nan        nan        nan         nan         nan\n",
      "actor_2_low                   5.7444        nan        nan        nan         nan         nan\n",
      "actor_3_high                  7.7487        nan        nan        nan         nan         nan\n",
      "actor_3_low                   5.3363        nan        nan        nan         nan         nan\n",
      "action                       -0.1681      0.160     -1.049      0.294      -0.482       0.146\n",
      "biography                    -0.0905      0.261     -0.346      0.729      -0.603       0.422\n",
      "comedy                       -0.3587      0.157     -2.282      0.022      -0.667      -0.051\n",
      "crime                         0.0445      0.158      0.281      0.778      -0.266       0.355\n",
      "documentary                   1.5364      0.628      2.446      0.014       0.305       2.767\n",
      "drama                         0.1090      0.142      0.766      0.444      -0.170       0.388\n",
      "history                       0.2107      0.320      0.659      0.510      -0.416       0.837\n",
      "horror                        0.5139      0.224      2.291      0.022       0.074       0.953\n",
      "music                         0.1058      0.316      0.335      0.738      -0.513       0.724\n",
      "musical                      -0.0056      0.409     -0.014      0.989      -0.808       0.797\n",
      "mystery                       0.1483      0.203      0.731      0.465      -0.249       0.546\n",
      "romance                       0.1440      0.144      0.997      0.319      -0.139       0.427\n",
      "sport                        -0.1487      0.294     -0.506      0.613      -0.724       0.427\n",
      "thriller                     -0.0905      0.161     -0.563      0.574      -0.406       0.225\n",
      "war                           0.1366      0.313      0.437      0.662      -0.476       0.749\n",
      "western                      -0.3946      0.536     -0.736      0.462      -1.445       0.656\n",
      "duration                     -0.0062      0.003     -1.901      0.057      -0.013       0.000\n",
      "director_facebook_likes   -6.311e-06   1.87e-05     -0.337      0.736    -4.3e-05    3.03e-05\n",
      "actor_3_facebook_likes     6.851e-06   7.93e-05      0.086      0.931      -0.000       0.000\n",
      "actor_1_facebook_likes     1.599e-05    4.7e-05      0.340      0.734   -7.61e-05       0.000\n",
      "cast_total_facebook_likes -1.904e-05    4.7e-05     -0.405      0.685      -0.000     7.3e-05\n",
      "facenumber_in_poster         -0.0065      0.028     -0.229      0.819      -0.062       0.049\n",
      "title_year                   -0.0187      0.007     -2.590      0.010      -0.033      -0.005\n",
      "actor_2_facebook_likes     1.191e-05   4.93e-05      0.241      0.809   -8.48e-05       0.000\n",
      "aspect_ratio                 -0.5294      0.246     -2.155      0.031      -1.011      -0.048\n",
      "=============================================================================================\n"
     ]
    }
   ],
   "source": [
    "#print equation model\n",
    "print(logistic_model.summary())"
   ]
  },
  {
   "cell_type": "code",
   "execution_count": 159,
   "metadata": {},
   "outputs": [
    {
     "data": {
      "text/plain": [
       "['comedy', 'documentary', 'horror', 'title_year', 'aspect_ratio']"
      ]
     },
     "execution_count": 159,
     "metadata": {},
     "output_type": "execute_result"
    }
   ],
   "source": [
    "#list of significant predictors w p-value < 0.05\n",
    "\n",
    "significant_list = logistic_model.pvalues[logistic_model.pvalues < 0.05].index.tolist()\n",
    "significant_list"
   ]
  },
  {
   "attachments": {},
   "cell_type": "markdown",
   "metadata": {},
   "source": [
    "## New Model"
   ]
  },
  {
   "cell_type": "code",
   "execution_count": 168,
   "metadata": {},
   "outputs": [
    {
     "name": "stdout",
     "output_type": "stream",
     "text": [
      "Optimization terminated successfully.\n",
      "         Current function value: 0.487882\n",
      "         Iterations 10\n",
      "0.772\n"
     ]
    }
   ],
   "source": [
    "#new model w predictors_actors and 'comedy', 'documentary', 'horror', 'title_year', 'aspect_ratio'\n",
    "predictors_actors = ['director_high', 'director_low', 'actor_1_high', 'actor_1_low']\n",
    "new_model = smf.logit(formula='profit_binary ~ ' + ' + '.join(predictors_actors) + ' + ' + 'comedy' + ' + ' + 'documentary' + ' + ' + 'horror' + ' + ' + 'title_year' + ' + ' + 'aspect_ratio', data=train).fit()\n",
    "\n",
    "#accuracy on test\n",
    "new_model.summary()\n",
    "test['pred'] = new_model.predict(test)\n",
    "test['pred_binary'] = np.where(test['pred'] > 0.5, 1, 0)\n",
    "accuracy = sum(test['pred_binary'] == test['profit_binary'])/len(test)\n",
    "print(accuracy)\n",
    "\n"
   ]
  },
  {
   "cell_type": "code",
   "execution_count": 161,
   "metadata": {},
   "outputs": [
    {
     "name": "stdout",
     "output_type": "stream",
     "text": [
      "                           Logit Regression Results                           \n",
      "==============================================================================\n",
      "Dep. Variable:          profit_binary   No. Observations:                 2998\n",
      "Model:                          Logit   Df Residuals:                     2988\n",
      "Method:                           MLE   Df Model:                            9\n",
      "Date:                Mon, 06 Mar 2023   Pseudo R-squ.:                  0.5066\n",
      "Time:                        15:22:17   Log-Likelihood:                -1021.1\n",
      "converged:                      False   LL-Null:                       -2069.5\n",
      "Covariance Type:            nonrobust   LLR p-value:                     0.000\n",
      "=================================================================================\n",
      "                    coef    std err          z      P>|z|      [0.025      0.975]\n",
      "---------------------------------------------------------------------------------\n",
      "Intercept        12.3931   2.82e+06   4.39e-06      1.000   -5.53e+06    5.53e+06\n",
      "director_high     6.9801        nan        nan        nan         nan         nan\n",
      "director_low      5.4130        nan        nan        nan         nan         nan\n",
      "actor_1_high      6.5616        nan        nan        nan         nan         nan\n",
      "actor_1_low       5.8314        nan        nan        nan         nan         nan\n",
      "actor_2_high      6.9712   4.81e+06   1.45e-06      1.000   -9.43e+06    9.43e+06\n",
      "actor_2_low       5.4218   4.81e+06   1.13e-06      1.000   -9.43e+06    9.43e+06\n",
      "actor_3_high      7.3903   8.56e+06   8.64e-07      1.000   -1.68e+07    1.68e+07\n",
      "actor_3_low       5.0028   8.56e+06   5.85e-07      1.000   -1.68e+07    1.68e+07\n",
      "comedy           -0.2418      0.123     -1.964      0.050      -0.483      -0.000\n",
      "documentary       1.6224      0.615      2.636      0.008       0.416       2.829\n",
      "horror            0.5623      0.202      2.785      0.005       0.167       0.958\n",
      "title_year       -0.0179      0.007     -2.573      0.010      -0.032      -0.004\n",
      "aspect_ratio     -0.7165      0.233     -3.077      0.002      -1.173      -0.260\n",
      "=================================================================================\n"
     ]
    }
   ],
   "source": [
    "#model eq\n",
    "print(new_model.summary())"
   ]
  },
  {
   "cell_type": "code",
   "execution_count": 169,
   "metadata": {},
   "outputs": [
    {
     "name": "stdout",
     "output_type": "stream",
     "text": [
      "Optimization terminated successfully.\n",
      "         Current function value: 0.690085\n",
      "         Iterations 5\n",
      "                           Logit Regression Results                           \n",
      "==============================================================================\n",
      "Dep. Variable:          profit_binary   No. Observations:                 2998\n",
      "Model:                          Logit   Df Residuals:                     2996\n",
      "Method:                           MLE   Df Model:                            1\n",
      "Date:                Mon, 06 Mar 2023   Pseudo R-squ.:               0.0003165\n",
      "Time:                        15:23:42   Log-Likelihood:                -2068.9\n",
      "converged:                       True   LL-Null:                       -2069.5\n",
      "Covariance Type:            nonrobust   LLR p-value:                    0.2524\n",
      "==========================================================================================\n",
      "                             coef    std err          z      P>|z|      [0.025      0.975]\n",
      "------------------------------------------------------------------------------------------\n",
      "Intercept                  0.1294      0.042      3.095      0.002       0.047       0.211\n",
      "actor_1_facebook_likes  2.834e-06   2.67e-06      1.061      0.289    -2.4e-06    8.07e-06\n",
      "==========================================================================================\n"
     ]
    }
   ],
   "source": [
    "# Import RFE from scikit-learn\n",
    "from sklearn.feature_selection import RFE\n",
    "from sklearn.linear_model import LogisticRegression\n",
    "\n",
    "# Define the model to use\n",
    "model = LogisticRegression()\n",
    "\n",
    "# Combine predictors_actors and predictors_genre into one list\n",
    "predictors = predictor_actor_new+ predictors_genre + standard_predictors\n",
    "X_train = train[predictors]\n",
    "y_train = train['profit_binary']\n",
    "\n",
    "# Set the number of features to remove at each step\n",
    "step = 1\n",
    "\n",
    "# Initialize RFE with the logistic regression model and step size\n",
    "rfe = RFE(estimator=model, n_features_to_select=step)\n",
    "\n",
    "# Fit RFE on the training data\n",
    "rfe.fit(X_train, y_train)\n",
    "\n",
    "# Get the ranking of each feature\n",
    "ranking = rfe.ranking_\n",
    "\n",
    "# Create a list of selected features based on their ranking\n",
    "selected_features = [predictors[i] for i in range(len(predictors)) if ranking[i] == 1]\n",
    "\n",
    "# Fit the logistic regression model on the selected features\n",
    "logistic_model_backwards = smf.logit(formula = 'profit_binary ~ ' + ' + '.join(selected_features), data = train).fit()\n",
    "\n",
    "# Print the summary of the model\n",
    "print(logistic_model_backwards.summary())\n"
   ]
  },
  {
   "cell_type": "code",
   "execution_count": 170,
   "metadata": {},
   "outputs": [
    {
     "name": "stdout",
     "output_type": "stream",
     "text": [
      "Optimization terminated successfully.\n",
      "         Current function value: 0.690085\n",
      "         Iterations 5\n",
      "                           Logit Regression Results                           \n",
      "==============================================================================\n",
      "Dep. Variable:          profit_binary   No. Observations:                 2998\n",
      "Model:                          Logit   Df Residuals:                     2996\n",
      "Method:                           MLE   Df Model:                            1\n",
      "Date:                Mon, 06 Mar 2023   Pseudo R-squ.:               0.0003165\n",
      "Time:                        15:25:05   Log-Likelihood:                -2068.9\n",
      "converged:                       True   LL-Null:                       -2069.5\n",
      "Covariance Type:            nonrobust   LLR p-value:                    0.2524\n",
      "==========================================================================================\n",
      "                             coef    std err          z      P>|z|      [0.025      0.975]\n",
      "------------------------------------------------------------------------------------------\n",
      "Intercept                  0.1294      0.042      3.095      0.002       0.047       0.211\n",
      "actor_1_facebook_likes  2.834e-06   2.67e-06      1.061      0.289    -2.4e-06    8.07e-06\n",
      "==========================================================================================\n"
     ]
    }
   ],
   "source": [
    "#new model w jsut actor_3_low\n",
    "\n",
    "log_model_2 = smf.logit(formula = 'profit_binary ~ actor_1_facebook_likes', data = train).fit()\n",
    "\n",
    "# Print the summary of the model\n",
    "print(log_model_2.summary())\n"
   ]
  },
  {
   "cell_type": "code",
   "execution_count": 171,
   "metadata": {},
   "outputs": [
    {
     "name": "stdout",
     "output_type": "stream",
     "text": [
      "0.5386666666666666\n"
     ]
    }
   ],
   "source": [
    "#accruacy on test\n",
    "test['pred'] = log_model_2.predict(test)\n",
    "test['pred_binary'] = np.where(test['pred'] > 0.5, 1, 0)\n",
    "accuracy = sum(test['pred_binary'] == test['profit_binary'])/len(test)\n",
    "print(accuracy)\n"
   ]
  },
  {
   "cell_type": "code",
   "execution_count": 165,
   "metadata": {},
   "outputs": [
    {
     "name": "stdout",
     "output_type": "stream",
     "text": [
      "Intercept      1.771439\n",
      "actor_3_low   -3.309000\n",
      "dtype: float64\n"
     ]
    }
   ],
   "source": [
    "#coeff\n",
    "print(log_model_2.params)"
   ]
  },
  {
   "cell_type": "code",
   "execution_count": 166,
   "metadata": {},
   "outputs": [
    {
     "name": "stdout",
     "output_type": "stream",
     "text": [
      "director_high\n",
      "1    1845\n",
      "0    1153\n",
      "Name: director_high, dtype: int64\n",
      "\n",
      "director_low\n",
      "0    1845\n",
      "1    1153\n",
      "Name: director_low, dtype: int64\n",
      "\n",
      "actor_1_high\n",
      "1    1857\n",
      "0    1141\n",
      "Name: actor_1_high, dtype: int64\n",
      "\n",
      "actor_1_low\n",
      "0    1857\n",
      "1    1141\n",
      "Name: actor_1_low, dtype: int64\n",
      "\n",
      "actor_2_high\n",
      "1    1675\n",
      "0    1323\n",
      "Name: actor_2_high, dtype: int64\n",
      "\n",
      "actor_2_low\n",
      "0    1675\n",
      "1    1323\n",
      "Name: actor_2_low, dtype: int64\n",
      "\n",
      "actor_3_high\n",
      "1    1596\n",
      "0    1402\n",
      "Name: actor_3_high, dtype: int64\n",
      "\n",
      "actor_3_low\n",
      "0    1596\n",
      "1    1402\n",
      "Name: actor_3_low, dtype: int64\n",
      "\n"
     ]
    }
   ],
   "source": [
    "#frequncy coutnm for all actor columns\n",
    "for i in predictors_actors:\n",
    "    print(i)\n",
    "    print(train[i].value_counts())\n",
    "    print()\n",
    "\n"
   ]
  },
  {
   "cell_type": "code",
   "execution_count": 167,
   "metadata": {},
   "outputs": [
    {
     "name": "stdout",
     "output_type": "stream",
     "text": [
      "action\n",
      "0    2236\n",
      "1     762\n",
      "Name: action, dtype: int64\n",
      "\n",
      "biography\n",
      "0    2809\n",
      "1     189\n",
      "Name: biography, dtype: int64\n",
      "\n",
      "comedy\n",
      "0    1817\n",
      "1    1181\n",
      "Name: comedy, dtype: int64\n",
      "\n",
      "crime\n",
      "0    2427\n",
      "1     571\n",
      "Name: crime, dtype: int64\n",
      "\n",
      "documentary\n",
      "0    2964\n",
      "1      34\n",
      "Name: documentary, dtype: int64\n",
      "\n",
      "drama\n",
      "1    1504\n",
      "0    1494\n",
      "Name: drama, dtype: int64\n",
      "\n",
      "history\n",
      "0    2875\n",
      "1     123\n",
      "Name: history, dtype: int64\n",
      "\n",
      "horror\n",
      "0    2687\n",
      "1     311\n",
      "Name: horror, dtype: int64\n",
      "\n",
      "music\n",
      "0    2881\n",
      "1     117\n",
      "Name: music, dtype: int64\n",
      "\n",
      "musical\n",
      "0    2912\n",
      "1      86\n",
      "Name: musical, dtype: int64\n",
      "\n",
      "mystery\n",
      "0    2692\n",
      "1     306\n",
      "Name: mystery, dtype: int64\n",
      "\n",
      "romance\n",
      "0    2308\n",
      "1     690\n",
      "Name: romance, dtype: int64\n",
      "\n",
      "sport\n",
      "0    2880\n",
      "1     118\n",
      "Name: sport, dtype: int64\n",
      "\n",
      "thriller\n",
      "0    2105\n",
      "1     893\n",
      "Name: thriller, dtype: int64\n",
      "\n",
      "war\n",
      "0    2874\n",
      "1     124\n",
      "Name: war, dtype: int64\n",
      "\n",
      "western\n",
      "0    2959\n",
      "1      39\n",
      "Name: western, dtype: int64\n",
      "\n"
     ]
    }
   ],
   "source": [
    "#effect of documnebntary horror and comedy on profit\n",
    "for i in predictors_genre:\n",
    "    print(i)\n",
    "    print(train[i].value_counts())\n",
    "    print()"
   ]
  }
 ],
 "metadata": {
  "kernelspec": {
   "display_name": "base",
   "language": "python",
   "name": "python3"
  },
  "language_info": {
   "codemirror_mode": {
    "name": "ipython",
    "version": 3
   },
   "file_extension": ".py",
   "mimetype": "text/x-python",
   "name": "python",
   "nbconvert_exporter": "python",
   "pygments_lexer": "ipython3",
   "version": "3.9.13"
  },
  "orig_nbformat": 4,
  "vscode": {
   "interpreter": {
    "hash": "40d3a090f54c6569ab1632332b64b2c03c39dcf918b08424e98f38b5ae0af88f"
   }
  }
 },
 "nbformat": 4,
 "nbformat_minor": 2
}
