{
 "cells": [
  {
   "cell_type": "code",
   "execution_count": 1,
   "metadata": {},
   "outputs": [],
   "source": [
    "#import train data and test data\n",
    "import pandas as pd\n",
    "import numpy as np\n",
    "import matplotlib.pyplot as plt\n",
    "import seaborn as sns\n",
    "import statsmodels.formula.api as smf\n",
    "import statsmodels.formula.api as sm\n",
    "from sklearn.model_selection import train_test_split\n",
    "\n",
    "movie_data = pd.read_csv('movie_metadata.csv')\n",
    "train = pd.read_csv('train.csv')\n",
    "test = pd.read_csv('test.csv')\n"
   ]
  },
  {
   "cell_type": "code",
   "execution_count": 2,
   "metadata": {},
   "outputs": [],
   "source": [
    "movie_data['profit'] = movie_data['gross'] - movie_data['budget']\n",
    "movie_data['profit_binary'] = np.where(movie_data['profit'] > 0, 1, 0)\n"
   ]
  },
  {
   "cell_type": "code",
   "execution_count": 3,
   "metadata": {},
   "outputs": [
    {
     "data": {
      "text/plain": [
       "Index(['color', 'director_name', 'num_critic_for_reviews', 'duration',\n",
       "       'director_facebook_likes', 'actor_3_facebook_likes', 'actor_2_name',\n",
       "       'actor_1_facebook_likes', 'gross', 'genres', 'actor_1_name',\n",
       "       'movie_title', 'num_voted_users', 'cast_total_facebook_likes',\n",
       "       'actor_3_name', 'facenumber_in_poster', 'plot_keywords',\n",
       "       'movie_imdb_link', 'num_user_for_reviews', 'language', 'country',\n",
       "       'content_rating', 'budget', 'title_year', 'actor_2_facebook_likes',\n",
       "       'imdb_score', 'aspect_ratio', 'movie_facebook_likes', 'profit',\n",
       "       'profit_binary'],\n",
       "      dtype='object')"
      ]
     },
     "execution_count": 3,
     "metadata": {},
     "output_type": "execute_result"
    }
   ],
   "source": [
    "movie_data.columns"
   ]
  },
  {
   "cell_type": "code",
   "execution_count": 4,
   "metadata": {},
   "outputs": [],
   "source": [
    "# Split the data into training and testing sets\n",
    "train_data, test_data = train_test_split(movie_data, test_size=0.2, random_state=42)\n",
    "\n",
    "# Save the training and testing data as CSV files\n",
    "train_data.to_csv('movie_train.csv', index=False)\n",
    "test_data.to_csv('movie_test.csv', index=False)\n",
    "\n",
    "movie_train = pd.read_csv('movie_train.csv')\n",
    "movie_test =pd.read_csv('movie_test.csv')"
   ]
  },
  {
   "cell_type": "code",
   "execution_count": 5,
   "metadata": {},
   "outputs": [
    {
     "name": "stdout",
     "output_type": "stream",
     "text": [
      "Optimization terminated successfully.\n",
      "         Current function value: 0.654498\n",
      "         Iterations 7\n"
     ]
    },
    {
     "data": {
      "text/html": [
       "<table class=\"simpletable\">\n",
       "<caption>Logit Regression Results</caption>\n",
       "<tr>\n",
       "  <th>Dep. Variable:</th>     <td>profit_binary</td>  <th>  No. Observations:  </th>  <td>  3695</td>  \n",
       "</tr>\n",
       "<tr>\n",
       "  <th>Model:</th>                 <td>Logit</td>      <th>  Df Residuals:      </th>  <td>  3685</td>  \n",
       "</tr>\n",
       "<tr>\n",
       "  <th>Method:</th>                 <td>MLE</td>       <th>  Df Model:          </th>  <td>     9</td>  \n",
       "</tr>\n",
       "<tr>\n",
       "  <th>Date:</th>            <td>Mon, 06 Mar 2023</td> <th>  Pseudo R-squ.:     </th>  <td>0.04557</td> \n",
       "</tr>\n",
       "<tr>\n",
       "  <th>Time:</th>                <td>16:02:41</td>     <th>  Log-Likelihood:    </th> <td> -2418.4</td> \n",
       "</tr>\n",
       "<tr>\n",
       "  <th>converged:</th>             <td>True</td>       <th>  LL-Null:           </th> <td> -2533.8</td> \n",
       "</tr>\n",
       "<tr>\n",
       "  <th>Covariance Type:</th>     <td>nonrobust</td>    <th>  LLR p-value:       </th> <td>1.051e-44</td>\n",
       "</tr>\n",
       "</table>\n",
       "<table class=\"simpletable\">\n",
       "<tr>\n",
       "              <td></td>                 <th>coef</th>     <th>std err</th>      <th>z</th>      <th>P>|z|</th>  <th>[0.025</th>    <th>0.975]</th>  \n",
       "</tr>\n",
       "<tr>\n",
       "  <th>Intercept</th>                 <td>   -0.1202</td> <td>    0.272</td> <td>   -0.441</td> <td> 0.659</td> <td>   -0.654</td> <td>    0.413</td>\n",
       "</tr>\n",
       "<tr>\n",
       "  <th>duration</th>                  <td>    0.0010</td> <td>    0.002</td> <td>    0.646</td> <td> 0.518</td> <td>   -0.002</td> <td>    0.004</td>\n",
       "</tr>\n",
       "<tr>\n",
       "  <th>director_facebook_likes</th>   <td> 3.534e-05</td> <td> 1.28e-05</td> <td>    2.766</td> <td> 0.006</td> <td> 1.03e-05</td> <td> 6.04e-05</td>\n",
       "</tr>\n",
       "<tr>\n",
       "  <th>actor_3_facebook_likes</th>    <td>   -0.0004</td> <td> 6.48e-05</td> <td>   -5.419</td> <td> 0.000</td> <td>   -0.000</td> <td>   -0.000</td>\n",
       "</tr>\n",
       "<tr>\n",
       "  <th>actor_1_facebook_likes</th>    <td>   -0.0003</td> <td> 4.54e-05</td> <td>   -7.211</td> <td> 0.000</td> <td>   -0.000</td> <td>   -0.000</td>\n",
       "</tr>\n",
       "<tr>\n",
       "  <th>cast_total_facebook_likes</th> <td>    0.0003</td> <td> 4.52e-05</td> <td>    7.285</td> <td> 0.000</td> <td>    0.000</td> <td>    0.000</td>\n",
       "</tr>\n",
       "<tr>\n",
       "  <th>facenumber_in_poster</th>      <td>   -0.0072</td> <td>    0.017</td> <td>   -0.422</td> <td> 0.673</td> <td>   -0.040</td> <td>    0.026</td>\n",
       "</tr>\n",
       "<tr>\n",
       "  <th>actor_2_facebook_likes</th>    <td>   -0.0003</td> <td> 4.74e-05</td> <td>   -6.835</td> <td> 0.000</td> <td>   -0.000</td> <td>   -0.000</td>\n",
       "</tr>\n",
       "<tr>\n",
       "  <th>aspect_ratio</th>              <td>   -0.3280</td> <td>    0.116</td> <td>   -2.820</td> <td> 0.005</td> <td>   -0.556</td> <td>   -0.100</td>\n",
       "</tr>\n",
       "<tr>\n",
       "  <th>movie_facebook_likes</th>      <td> 2.095e-05</td> <td>  2.4e-06</td> <td>    8.733</td> <td> 0.000</td> <td> 1.62e-05</td> <td> 2.57e-05</td>\n",
       "</tr>\n",
       "</table>"
      ],
      "text/plain": [
       "<class 'statsmodels.iolib.summary.Summary'>\n",
       "\"\"\"\n",
       "                           Logit Regression Results                           \n",
       "==============================================================================\n",
       "Dep. Variable:          profit_binary   No. Observations:                 3695\n",
       "Model:                          Logit   Df Residuals:                     3685\n",
       "Method:                           MLE   Df Model:                            9\n",
       "Date:                Mon, 06 Mar 2023   Pseudo R-squ.:                 0.04557\n",
       "Time:                        16:02:41   Log-Likelihood:                -2418.4\n",
       "converged:                       True   LL-Null:                       -2533.8\n",
       "Covariance Type:            nonrobust   LLR p-value:                 1.051e-44\n",
       "=============================================================================================\n",
       "                                coef    std err          z      P>|z|      [0.025      0.975]\n",
       "---------------------------------------------------------------------------------------------\n",
       "Intercept                    -0.1202      0.272     -0.441      0.659      -0.654       0.413\n",
       "duration                      0.0010      0.002      0.646      0.518      -0.002       0.004\n",
       "director_facebook_likes    3.534e-05   1.28e-05      2.766      0.006    1.03e-05    6.04e-05\n",
       "actor_3_facebook_likes       -0.0004   6.48e-05     -5.419      0.000      -0.000      -0.000\n",
       "actor_1_facebook_likes       -0.0003   4.54e-05     -7.211      0.000      -0.000      -0.000\n",
       "cast_total_facebook_likes     0.0003   4.52e-05      7.285      0.000       0.000       0.000\n",
       "facenumber_in_poster         -0.0072      0.017     -0.422      0.673      -0.040       0.026\n",
       "actor_2_facebook_likes       -0.0003   4.74e-05     -6.835      0.000      -0.000      -0.000\n",
       "aspect_ratio                 -0.3280      0.116     -2.820      0.005      -0.556      -0.100\n",
       "movie_facebook_likes       2.095e-05    2.4e-06      8.733      0.000    1.62e-05    2.57e-05\n",
       "=============================================================================================\n",
       "\"\"\""
      ]
     },
     "execution_count": 5,
     "metadata": {},
     "output_type": "execute_result"
    }
   ],
   "source": [
    "logit_model = sm.logit(formula = 'profit_binary~duration+director_facebook_likes+actor_3_facebook_likes+actor_1_facebook_likes+cast_total_facebook_likes+facenumber_in_poster+actor_2_facebook_likes+aspect_ratio+movie_facebook_likes+aspect_ratio', data = movie_train).fit() #Developing logistic regression model\n",
    "logit_model.summary()"
   ]
  },
  {
   "cell_type": "code",
   "execution_count": 6,
   "metadata": {},
   "outputs": [
    {
     "data": {
      "text/plain": [
       "Index(['director_name', 'duration', 'director_facebook_likes',\n",
       "       'actor_3_facebook_likes', 'actor_2_name', 'actor_1_facebook_likes',\n",
       "       'gross', 'genres', 'actor_1_name', 'movie_title',\n",
       "       'cast_total_facebook_likes', 'actor_3_name', 'facenumber_in_poster',\n",
       "       'plot_keywords', 'movie_imdb_link', 'language', 'country',\n",
       "       'content_rating', 'budget', 'title_year', 'actor_2_facebook_likes',\n",
       "       'aspect_ratio', 'profit', 'gross_bin', 'action', 'adventure',\n",
       "       'animation', 'biography', 'comedy', 'crime', 'documentary', 'drama',\n",
       "       'family', 'fantasy', 'film-noir', 'history', 'horror', 'music',\n",
       "       'musical', 'mystery', 'romance', 'sci_fi', 'sport', 'thriller', 'war',\n",
       "       'western', 'director_high', 'director_low', 'actor_1_high',\n",
       "       'actor_1_low', 'actor_2_high', 'actor_2_low', 'actor_3_high',\n",
       "       'actor_3_low', 'is_english', 'profit_binary'],\n",
       "      dtype='object')"
      ]
     },
     "execution_count": 6,
     "metadata": {},
     "output_type": "execute_result"
    }
   ],
   "source": [
    "train.columns"
   ]
  },
  {
   "cell_type": "code",
   "execution_count": 7,
   "metadata": {},
   "outputs": [
    {
     "name": "stdout",
     "output_type": "stream",
     "text": [
      "Accuracy: 0.6352824578790882\n"
     ]
    }
   ],
   "source": [
    "y_pred = logit_model.predict(movie_test)\n",
    "\n",
    "# convert predicted probabilities to class labels (0 or 1)\n",
    "y_pred_class = np.where(y_pred > 0.5, 1, 0)\n",
    "\n",
    "# compare predicted class labels with actual class labels in the test set\n",
    "accuracy = np.mean(y_pred_class == movie_test['profit_binary'])\n",
    "print('Accuracy:', accuracy)\n"
   ]
  },
  {
   "cell_type": "code",
   "execution_count": 8,
   "metadata": {},
   "outputs": [],
   "source": [
    "# remove NaN from y-pred and  remove same rows from movie_test\n",
    "movie_test = movie_test[~np.isnan(y_pred)]\n",
    "y_pred = y_pred[~np.isnan(y_pred)]\n",
    "\n",
    "\n"
   ]
  },
  {
   "cell_type": "code",
   "execution_count": 9,
   "metadata": {},
   "outputs": [
    {
     "data": {
      "image/png": "[encoded data removed]",
      "text/plain": [
       "<Figure size 640x480 with 1 Axes>"
      ]
     },
     "metadata": {},
     "output_type": "display_data"
    }
   ],
   "source": [
    "# ##plot ROC curve\n",
    "# from sklearn.metrics import roc_curve\n",
    "# fpr, tpr, thresholds = roc_curve(test['profit_binary'], test['pred'])\n",
    "# plt.plot(fpr, tpr)\n",
    "# plt.plot([0, 1], [0, 1], 'k--')\n",
    "# plt.xlabel('False Positive Rate')\n",
    "# plt.ylabel('True Positive Rate')\n",
    "# plt.title('ROC Curve')\n",
    "# plt.show()\n",
    "\n",
    "#plot ROC\n",
    "from sklearn.metrics import roc_curve, auc\n",
    "fpr, tpr, thresholds = roc_curve(movie_test['profit_binary'], y_pred)\n",
    "roc_auc = auc(fpr, tpr)\n",
    "plt.figure()\n",
    "plt.plot(fpr, tpr, color='darkorange', lw=2, label='ROC curve (area = %0.2f)' % roc_auc)\n",
    "plt.plot([0, 1], [0, 1], color='navy', lw=2, linestyle='--')\n",
    "plt.xlim([0.0, 1.0])\n",
    "plt.ylim([0.0, 1.05])\n",
    "plt.xlabel('False Positive Rate')\n",
    "plt.ylabel('True Positive Rate')\n",
    "plt.title('Receiver operating characteristic example')\n",
    "plt.legend(loc=\"lower right\")\n",
    "plt.show()\n"
   ]
  },
  {
   "cell_type": "code",
   "execution_count": 10,
   "metadata": {},
   "outputs": [],
   "source": [
    "#Function to compute confusion matrix and prediction accuracy on test data\n",
    "def confusion_matrix_test(data,actual_values,model,cutoff=0.5):\n",
    "#Predict the values using the Logit model\n",
    "    pred_values = model.predict(data)\n",
    "# Specify the bins\n",
    "    bins=np.array([0,cutoff,1])\n",
    "#Confusion matrix\n",
    "    cm = np.histogram2d(actual_values, pred_values, bins=bins)[0]\n",
    "    cm_df = pd.DataFrame(cm)\n",
    "    cm_df.columns = ['Predicted 0','Predicted 1']\n",
    "    cm_df = cm_df.rename(index={0: 'Actual 0',1:'Actual 1'})\n",
    "    accuracy = (cm[0,0]+cm[1,1])/cm.sum()\n",
    "    sns.heatmap(cm_df, annot=True, cmap='Blues', fmt='g')\n",
    "    plt.ylabel(\"Actual Values\")\n",
    "    plt.xlabel(\"Predicted Values\")\n",
    "    print(\"Classification accuracy = {:.1%}\".format(accuracy))"
   ]
  },
  {
   "cell_type": "code",
   "execution_count": 11,
   "metadata": {},
   "outputs": [],
   "source": [
    "#Function to compute confusion matrix and prediction accuracy on test/train data\n",
    "from sklearn.metrics import auc\n",
    "\n",
    "\n",
    "def confusion_matrix_data(data,actual_values,model,cutoff=0.5):\n",
    "#Predict the values using the Logit model\n",
    "    pred_values = model.predict(data)\n",
    "# Specify the bins\n",
    "    bins=np.array([0,cutoff,1])\n",
    "#Confusion matrix\n",
    "    cm = np.histogram2d(actual_values, pred_values, bins=bins)[0]\n",
    "    cm_df = pd.DataFrame(cm)\n",
    "    cm_df.columns = ['Predicted 0','Predicted 1']\n",
    "    cm_df = cm_df.rename(index={0: 'Actual 0',1:'Actual 1'})\n",
    "# Calculate the accuracy\n",
    "    accuracy = (cm[0,0]+cm[1,1])/cm.sum()\n",
    "    fnr = (cm[1,0])/(cm[1,0]+cm[1,1])\n",
    "    precision = (cm[1,1])/(cm[0,1]+cm[1,1])\n",
    "    fpr = (cm[0,1])/(cm[0,0]+cm[0,1])\n",
    "    tpr = (cm[1,1])/(cm[1,0]+cm[1,1])\n",
    "    fpr_roc, tpr_roc, auc_thresholds = roc_curve(actual_values, pred_values)\n",
    "    auc_value = (auc(fpr_roc, tpr_roc))# AUC of ROC\n",
    "    sns.heatmap(cm_df, annot=True, cmap='Blues', fmt='g')\n",
    "    plt.ylabel(\"Actual Values\")\n",
    "    plt.xlabel(\"Predicted Values\")\n",
    "    print(\"Classification accuracy = {:.1%}\".format(accuracy))\n",
    "    print(\"Precision = {:.1%}\".format(precision))\n",
    "    print(\"TPR or Recall = {:.1%}\".format(tpr))\n",
    "    print(\"FNR = {:.1%}\".format(fnr))\n",
    "    print(\"FPR = {:.1%}\".format(fpr))\n",
    "    print(\"ROC-AUC = {:.1%}\".format(auc_value))\n"
   ]
  },
  {
   "cell_type": "code",
   "execution_count": 12,
   "metadata": {},
   "outputs": [
    {
     "name": "stdout",
     "output_type": "stream",
     "text": [
      "Classification accuracy = 60.2%\n",
      "Precision = 58.9%\n",
      "TPR or Recall = 31.5%\n",
      "FNR = 68.5%\n",
      "FPR = 17.3%\n",
      "ROC-AUC = 64.4%\n"
     ]
    },
    {
     "data": {
      "image/png": "[encoded data removed]",
      "text/plain": [
       "<Figure size 640x480 with 2 Axes>"
      ]
     },
     "metadata": {},
     "output_type": "display_data"
    }
   ],
   "source": [
    "confusion_matrix_data(movie_test,movie_test.profit_binary,logit_model,0.5)"
   ]
  },
  {
   "cell_type": "code",
   "execution_count": 14,
   "metadata": {},
   "outputs": [
    {
     "data": {
      "text/plain": [
       "0.5137595112299983"
      ]
     },
     "execution_count": 14,
     "metadata": {},
     "output_type": "execute_result"
    }
   ],
   "source": [
    "np.exp(-0.666)\n"
   ]
  },
  {
   "cell_type": "code",
   "execution_count": null,
   "metadata": {},
   "outputs": [],
   "source": []
  }
 ],
 "metadata": {
  "kernelspec": {
   "display_name": "base",
   "language": "python",
   "name": "python3"
  },
  "language_info": {
   "codemirror_mode": {
    "name": "ipython",
    "version": 3
   },
   "file_extension": ".py",
   "mimetype": "text/x-python",
   "name": "python",
   "nbconvert_exporter": "python",
   "pygments_lexer": "ipython3",
   "version": "3.10.6"
  },
  "orig_nbformat": 4,
  "vscode": {
   "interpreter": {
    "hash": "40d3a090f54c6569ab1632332b64b2c03c39dcf918b08424e98f38b5ae0af88f"
   }
  }
 },
 "nbformat": 4,
 "nbformat_minor": 2
}
